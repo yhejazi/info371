{
 "cells": [
  {
   "cell_type": "markdown",
   "metadata": {
    "ein.tags": "worksheet-0",
    "slideshow": {
     "slide_type": "-"
    }
   },
   "source": [
    "# Problem Set 3, due Feb 19th midnight\n",
    "## Before You Start\n",
    "\n",
    "This problem set is about pandas (and python).  Unlike all the other\n",
    "problem sets in this course, I ask you to solve this one in _python_\n",
    "in _notebooks_.\n",
    "\n",
    "Please submit\n",
    "* this notebook (as .ipynb)\n",
    "* html (or pdf) 'final version' of it\n",
    "\n",
    "\n",
    "## Collaboration\n",
    "\n",
    "Working together is useful and fun.  However,\n",
    "\n",
    "* please list all your collaborators' names below here and\n",
    "* submit your own work.  Copy-pasting is not ok.\n",
    "\n",
    "collaborators:\n",
    "\n",
    "* ...\n",
    "\n",
    "## Readings:\n",
    "\n",
    "This problem set assumes you can work with pandas.  Consult McKinney\n",
    "Ch 5 _Getting Started with pandas_ (chapter numbering varies between\n",
    "                                    editions).  Matplotlib is briefly\n",
    "discussed in McKinney Ch 9.  Ch 10: _Data Aggregation and Group\n",
    "Operations_ explains the, well, grouped operations.\n"
   ]
  },
  {
   "cell_type": "code",
   "execution_count": 168,
   "metadata": {
    "autoscroll": false,
    "ein.tags": "worksheet-0",
    "slideshow": {
     "slide_type": "-"
    }
   },
   "outputs": [
    {
     "name": "stdout",
     "output_type": "stream",
     "text": [
      "Numpy version:        1.13.3\n",
      "SciPy version:        0.19.1\n",
      "Pandas version:       0.20.3\n",
      "Maplotlib version:     2.1.0\n",
      "Scikit-Learn version: 0.19.1\n"
     ]
    }
   ],
   "source": [
    "# Let's import the important packages.  Depending on how do your\n",
    "# exactly proceed, you may need more than these here.  \n",
    "\n",
    "# Numpy is a library for working with Arrays\n",
    "import numpy as np\n",
    "print(\"Numpy version:        %6.6s\" % np.__version__)\n",
    "\n",
    "# SciPy implements many different numerical algorithms\n",
    "import scipy as sp\n",
    "print(\"SciPy version:        %6.6s\" % sp.__version__)\n",
    "\n",
    "# Pandas makes working with data tables easier\n",
    "import pandas as pd\n",
    "print(\"Pandas version:       %6.6s\" % pd.__version__)\n",
    "\n",
    "# Module for plotting\n",
    "import matplotlib \n",
    "print(\"Maplotlib version:    %6.6s\" % matplotlib.__version__)\n",
    "%matplotlib inline\n",
    "# needed for inline plots in notebooks\n",
    "import matplotlib.pyplot as plt  \n",
    "import matplotlib.pylab as pylab\n",
    "\n",
    "# SciKit Learn implements several Machine Learning algorithms\n",
    "import sklearn\n",
    "print(\"Scikit-Learn version: %6.6s\" % sklearn.__version__)"
   ]
  },
  {
   "cell_type": "markdown",
   "metadata": {
    "ein.tags": "worksheet-0",
    "slideshow": {
     "slide_type": "-"
    }
   },
   "source": [
    "---\n",
    "\n",
    "## Introduction to the assignment\n",
    "\n",
    "For this assignment, you will be using the [Boston Housing Prices Data\n",
    "Set](http://archive.ics.uci.edu/ml/datasets/Housing).  Please read\n",
    "about the dataset carefully before continuing -- it is worth investing\n",
    "a few minutes up front otherwise you are likely to be hopelessly\n",
    "confused! \n",
    "\n"
   ]
  },
  {
   "cell_type": "code",
   "execution_count": 105,
   "metadata": {
    "autoscroll": false,
    "ein.tags": "worksheet-0",
    "slideshow": {
     "slide_type": "-"
    }
   },
   "outputs": [],
   "source": [
    "from sklearn.datasets import load_boston\n",
    "bdata = load_boston()"
   ]
  },
  {
   "cell_type": "markdown",
   "metadata": {
    "ein.tags": "worksheet-0",
    "slideshow": {
     "slide_type": "-"
    }
   },
   "source": [
    "The following commands will provide some basic information about the shape of the data:"
   ]
  },
  {
   "cell_type": "code",
   "execution_count": 106,
   "metadata": {
    "autoscroll": false,
    "ein.tags": "worksheet-0",
    "slideshow": {
     "slide_type": "-"
    }
   },
   "outputs": [
    {
     "name": "stdout",
     "output_type": "stream",
     "text": [
      "dict_keys(['data', 'target', 'feature_names', 'DESCR'])\n",
      "['CRIM' 'ZN' 'INDUS' 'CHAS' 'NOX' 'RM' 'AGE' 'DIS' 'RAD' 'TAX' 'PTRATIO'\n",
      " 'B' 'LSTAT']\n",
      "(506, 13)\n",
      "(506,)\n"
     ]
    }
   ],
   "source": [
    "print( bdata.keys())\n",
    "print( bdata.feature_names)\n",
    "print( bdata.data.shape)\n",
    "print( bdata.target.shape)\n",
    "\n",
    "# uncomment the following if you want to see a lengthy description of the dataset\n",
    "# print bdata.DESCR"
   ]
  },
  {
   "cell_type": "code",
   "execution_count": 107,
   "metadata": {
    "autoscroll": false,
    "ein.tags": "worksheet-0",
    "slideshow": {
     "slide_type": "-"
    }
   },
   "outputs": [],
   "source": [
    "boston = pd.DataFrame(bdata.data)"
   ]
  },
  {
   "cell_type": "code",
   "execution_count": 108,
   "metadata": {
    "autoscroll": false,
    "ein.tags": "worksheet-0",
    "slideshow": {
     "slide_type": "-"
    }
   },
   "outputs": [
    {
     "name": "stdout",
     "output_type": "stream",
     "text": [
      "(506, 13)\n",
      "      CRIM    ZN  INDUS  CHAS    NOX     RM   AGE     DIS  RAD    TAX  \\\n",
      "0  0.00632  18.0   2.31   0.0  0.538  6.575  65.2  4.0900  1.0  296.0   \n",
      "1  0.02731   0.0   7.07   0.0  0.469  6.421  78.9  4.9671  2.0  242.0   \n",
      "2  0.02729   0.0   7.07   0.0  0.469  7.185  61.1  4.9671  2.0  242.0   \n",
      "3  0.03237   0.0   2.18   0.0  0.458  6.998  45.8  6.0622  3.0  222.0   \n",
      "4  0.06905   0.0   2.18   0.0  0.458  7.147  54.2  6.0622  3.0  222.0   \n",
      "\n",
      "   PTRATIO       B  LSTAT  \n",
      "0     15.3  396.90   4.98  \n",
      "1     17.8  396.90   9.14  \n",
      "2     17.8  392.83   4.03  \n",
      "3     18.7  394.63   2.94  \n",
      "4     18.7  396.90   5.33  \n"
     ]
    }
   ],
   "source": [
    "boston.columns = bdata.feature_names[:]\n",
    "print( boston.shape)\n",
    "print(boston.head())"
   ]
  },
  {
   "cell_type": "markdown",
   "metadata": {
    "ein.tags": "worksheet-0",
    "slideshow": {
     "slide_type": "-"
    }
   },
   "source": [
    "---\n",
    "\n",
    "## Part 1: Descriptive analysis\n",
    "\n",
    "### 1.1: Explore the data\n",
    "\n",
    "Let's dig into the data a bit to see what we're dealing with. The\n",
    "first thing to do is to make sure you understand how the data is\n",
    "organized, what the data types are, whether there is any missing data,\n",
    "and so forth. Get your bearings on your own, then answer the following\n",
    "questions.\n",
    "\n",
    " - a: How many different variables are there in the dataset, and\n",
    "      how many different observations?\n",
    " - b: how many variables are not coded as numeric?  Hint: series has a\n",
    "      _dtype_ property.\n",
    " - c: How many instances are classified as neighborhoods where the tract bounds the Charles River? \n",
    " - d: Show that dataset does not contain any missing values.\n",
    " - e: Display the property tax rate in the 5 neighborhoods that have\n",
    "      the lowest median housing price."
   ]
  },
  {
   "cell_type": "code",
   "execution_count": 111,
   "metadata": {
    "autoscroll": false,
    "ein.tags": "worksheet-0",
    "slideshow": {
     "slide_type": "-"
    }
   },
   "outputs": [
    {
     "name": "stdout",
     "output_type": "stream",
     "text": [
      "(506, 13)\n"
     ]
    }
   ],
   "source": [
    "# a\n",
    "print(boston.shape)"
   ]
  },
  {
   "cell_type": "code",
   "execution_count": 112,
   "metadata": {},
   "outputs": [
    {
     "name": "stdout",
     "output_type": "stream",
     "text": [
      "CRIM       float64\n",
      "ZN         float64\n",
      "INDUS      float64\n",
      "CHAS       float64\n",
      "NOX        float64\n",
      "RM         float64\n",
      "AGE        float64\n",
      "DIS        float64\n",
      "RAD        float64\n",
      "TAX        float64\n",
      "PTRATIO    float64\n",
      "B          float64\n",
      "LSTAT      float64\n",
      "dtype: object \n",
      "\n",
      "float64    13\n",
      "dtype: int64\n"
     ]
    }
   ],
   "source": [
    "# b\n",
    "print(boston.dtypes, \"\\n\")\n",
    "print(boston.dtypes.value_counts())"
   ]
  },
  {
   "cell_type": "code",
   "execution_count": 113,
   "metadata": {},
   "outputs": [
    {
     "data": {
      "text/plain": [
       "35"
      ]
     },
     "execution_count": 113,
     "metadata": {},
     "output_type": "execute_result"
    }
   ],
   "source": [
    "# c\n",
    "len(boston[boston.CHAS == 1])"
   ]
  },
  {
   "cell_type": "code",
   "execution_count": 114,
   "metadata": {},
   "outputs": [
    {
     "data": {
      "text/plain": [
       "CRIM       0\n",
       "ZN         0\n",
       "INDUS      0\n",
       "CHAS       0\n",
       "NOX        0\n",
       "RM         0\n",
       "AGE        0\n",
       "DIS        0\n",
       "RAD        0\n",
       "TAX        0\n",
       "PTRATIO    0\n",
       "B          0\n",
       "LSTAT      0\n",
       "dtype: int64"
      ]
     },
     "execution_count": 114,
     "metadata": {},
     "output_type": "execute_result"
    }
   ],
   "source": [
    "# d\n",
    "boston.isnull().sum()"
   ]
  },
  {
   "cell_type": "code",
   "execution_count": 116,
   "metadata": {},
   "outputs": [
    {
     "data": {
      "text/html": [
       "<div>\n",
       "<style>\n",
       "    .dataframe thead tr:only-child th {\n",
       "        text-align: right;\n",
       "    }\n",
       "\n",
       "    .dataframe thead th {\n",
       "        text-align: left;\n",
       "    }\n",
       "\n",
       "    .dataframe tbody tr th {\n",
       "        vertical-align: top;\n",
       "    }\n",
       "</style>\n",
       "<table border=\"1\" class=\"dataframe\">\n",
       "  <thead>\n",
       "    <tr style=\"text-align: right;\">\n",
       "      <th></th>\n",
       "      <th>TAX</th>\n",
       "    </tr>\n",
       "  </thead>\n",
       "  <tbody>\n",
       "    <tr>\n",
       "      <th>398</th>\n",
       "      <td>666.0</td>\n",
       "    </tr>\n",
       "    <tr>\n",
       "      <th>405</th>\n",
       "      <td>666.0</td>\n",
       "    </tr>\n",
       "    <tr>\n",
       "      <th>400</th>\n",
       "      <td>666.0</td>\n",
       "    </tr>\n",
       "    <tr>\n",
       "      <th>399</th>\n",
       "      <td>666.0</td>\n",
       "    </tr>\n",
       "    <tr>\n",
       "      <th>414</th>\n",
       "      <td>666.0</td>\n",
       "    </tr>\n",
       "  </tbody>\n",
       "</table>\n",
       "</div>"
      ],
      "text/plain": [
       "       TAX\n",
       "398  666.0\n",
       "405  666.0\n",
       "400  666.0\n",
       "399  666.0\n",
       "414  666.0"
      ]
     },
     "execution_count": 116,
     "metadata": {},
     "output_type": "execute_result"
    }
   ],
   "source": [
    "# e\n",
    "boston['MEDV'] = bdata.target # get medians\n",
    "boston.nsmallest(5, 'MEDV')[['TAX']] # get tax of lowest 5 medians"
   ]
  },
  {
   "cell_type": "markdown",
   "metadata": {
    "ein.tags": "worksheet-0",
    "slideshow": {
     "slide_type": "-"
    }
   },
   "source": [
    "*Provide our answers below:*\n",
    "\n",
    " - a: There are 506 observations with 13 variables\n",
    " - b: All variables are coded as numeric (float64)\n",
    " - c: Number of neighborhoods where tract bounds Charles River: 35\n",
    " - d: The dataset does not contain any null values as shown above\n",
    " - e: Above is displayed the property tax rate in the 5 neighborhoods that have the lowest median housing price"
   ]
  },
  {
   "cell_type": "markdown",
   "metadata": {
    "ein.tags": "worksheet-0",
    "slideshow": {
     "slide_type": "-"
    }
   },
   "source": [
    "### 1.2: Answer some basic questions about the data\n",
    "\n",
    " - 1.2 a: What is the median housing price in Boston's most expensive neighborhood?\n",
    " - 1.2 b: How many neighborhoods have, on average, less than 5 rooms per dwelling?\n",
    " - 1.2 c: What is the property tax rate in the most expensive neighborhood that is also adjacent to the Charles River?\n",
    " - 1.2 d: Are homes in old neighborhoods smaller?  Compare the average\n",
    "          number of rooms in the 5 oldest and 5 youngest neighborhood.\n",
    " - 1.2 e: What is the crime rate in the neighborhood with the lowest median housing price?"
   ]
  },
  {
   "cell_type": "code",
   "execution_count": 117,
   "metadata": {
    "autoscroll": false,
    "ein.tags": "worksheet-0",
    "slideshow": {
     "slide_type": "-"
    }
   },
   "outputs": [
    {
     "data": {
      "text/plain": [
       "50.0"
      ]
     },
     "execution_count": 117,
     "metadata": {},
     "output_type": "execute_result"
    }
   ],
   "source": [
    "# a\n",
    "max(boston['MEDV'])"
   ]
  },
  {
   "cell_type": "code",
   "execution_count": 118,
   "metadata": {},
   "outputs": [
    {
     "data": {
      "text/plain": [
       "15"
      ]
     },
     "execution_count": 118,
     "metadata": {},
     "output_type": "execute_result"
    }
   ],
   "source": [
    "# b\n",
    "len(boston[boston['RM'] < 5])"
   ]
  },
  {
   "cell_type": "code",
   "execution_count": 119,
   "metadata": {},
   "outputs": [
    {
     "data": {
      "text/html": [
       "<div>\n",
       "<style>\n",
       "    .dataframe thead tr:only-child th {\n",
       "        text-align: right;\n",
       "    }\n",
       "\n",
       "    .dataframe thead th {\n",
       "        text-align: left;\n",
       "    }\n",
       "\n",
       "    .dataframe tbody tr th {\n",
       "        vertical-align: top;\n",
       "    }\n",
       "</style>\n",
       "<table border=\"1\" class=\"dataframe\">\n",
       "  <thead>\n",
       "    <tr style=\"text-align: right;\">\n",
       "      <th></th>\n",
       "      <th>TAX</th>\n",
       "      <th>MEDV</th>\n",
       "    </tr>\n",
       "  </thead>\n",
       "  <tbody>\n",
       "    <tr>\n",
       "      <th>162</th>\n",
       "      <td>403.0</td>\n",
       "      <td>50.0</td>\n",
       "    </tr>\n",
       "    <tr>\n",
       "      <th>163</th>\n",
       "      <td>403.0</td>\n",
       "      <td>50.0</td>\n",
       "    </tr>\n",
       "    <tr>\n",
       "      <th>283</th>\n",
       "      <td>198.0</td>\n",
       "      <td>50.0</td>\n",
       "    </tr>\n",
       "    <tr>\n",
       "      <th>369</th>\n",
       "      <td>666.0</td>\n",
       "      <td>50.0</td>\n",
       "    </tr>\n",
       "    <tr>\n",
       "      <th>370</th>\n",
       "      <td>666.0</td>\n",
       "      <td>50.0</td>\n",
       "    </tr>\n",
       "    <tr>\n",
       "      <th>372</th>\n",
       "      <td>666.0</td>\n",
       "      <td>50.0</td>\n",
       "    </tr>\n",
       "  </tbody>\n",
       "</table>\n",
       "</div>"
      ],
      "text/plain": [
       "       TAX  MEDV\n",
       "162  403.0  50.0\n",
       "163  403.0  50.0\n",
       "283  198.0  50.0\n",
       "369  666.0  50.0\n",
       "370  666.0  50.0\n",
       "372  666.0  50.0"
      ]
     },
     "execution_count": 119,
     "metadata": {},
     "output_type": "execute_result"
    }
   ],
   "source": [
    "# c\n",
    "most_expensive = boston[boston['MEDV'] == max(boston['MEDV'])]\n",
    "\n",
    "charles_expensive = most_expensive[most_expensive['CHAS'] == 1]\n",
    "most_expensive[most_expensive['CHAS'] == 1][['TAX', 'MEDV']]"
   ]
  },
  {
   "cell_type": "code",
   "execution_count": 120,
   "metadata": {},
   "outputs": [
    {
     "name": "stdout",
     "output_type": "stream",
     "text": [
      "Are homes in old neighborhoods smaller? \n",
      " True\n"
     ]
    }
   ],
   "source": [
    "# d\n",
    "old = boston.nlargest(5, 'AGE')['RM'].mean()\n",
    "new = boston.nsmallest(5, 'AGE')['RM'].mean()\n",
    "\n",
    "print(\"Are homes in old neighborhoods smaller?\", \"\\n\", old < new)"
   ]
  },
  {
   "cell_type": "code",
   "execution_count": 121,
   "metadata": {},
   "outputs": [
    {
     "data": {
      "text/plain": [
       "398    38.3518\n",
       "405    67.9208\n",
       "Name: CRIM, dtype: float64"
      ]
     },
     "execution_count": 121,
     "metadata": {},
     "output_type": "execute_result"
    }
   ],
   "source": [
    "# e\n",
    "boston[boston['MEDV'] == min(boston['MEDV'])].CRIM"
   ]
  },
  {
   "cell_type": "markdown",
   "metadata": {
    "ein.tags": "worksheet-0",
    "slideshow": {
     "slide_type": "-"
    }
   },
   "source": [
    "*Provide our answers below:*\n",
    "\n",
    " - 1.2.1: 50\n",
    " - 1.2.2: 15\n",
    " - 1.2.3: There are *multiple* tax rates for the most expensive neighborhoods (MDEV = 50) that are also adjacent to the Charles River. *3 are 666, 2 are 403, and 1 is 198*\n",
    " - 1.2.4: Homes in old neighborhoods are smaller than the homes in new neighborhoods\n",
    " - 1.2.5: The crime rates for the 2 neighborhoods with the lowest median housing prices is 38.3518 and 67.9208"
   ]
  },
  {
   "cell_type": "markdown",
   "metadata": {
    "ein.tags": "worksheet-0",
    "slideshow": {
     "slide_type": "-"
    }
   },
   "source": [
    "### 1.3: Summary statistics\n",
    "\n",
    "Create a clean, organized table that shows just the following\n",
    "information (no more, no less) for each variable in the dataset.  Your\n",
    "table should have K rows (one for each variable) and 7\n",
    "columns, ordered as below:\n",
    "\n",
    "- The name of the variable\n",
    "- The number of observations with non-missing values\n",
    "- The mean of the variable\n",
    "- The standard deviation of the variable\n",
    "- The minimum value of the variable\n",
    "- The median of the variable\n",
    "- The maximum value of the variable"
   ]
  },
  {
   "cell_type": "code",
   "execution_count": 122,
   "metadata": {
    "autoscroll": false,
    "ein.tags": "worksheet-0",
    "slideshow": {
     "slide_type": "-"
    }
   },
   "outputs": [
    {
     "data": {
      "text/html": [
       "<div>\n",
       "<style>\n",
       "    .dataframe thead tr:only-child th {\n",
       "        text-align: right;\n",
       "    }\n",
       "\n",
       "    .dataframe thead th {\n",
       "        text-align: left;\n",
       "    }\n",
       "\n",
       "    .dataframe tbody tr th {\n",
       "        vertical-align: top;\n",
       "    }\n",
       "</style>\n",
       "<table border=\"1\" class=\"dataframe\">\n",
       "  <thead>\n",
       "    <tr style=\"text-align: right;\">\n",
       "      <th></th>\n",
       "      <th>count</th>\n",
       "      <th>mean</th>\n",
       "      <th>std</th>\n",
       "      <th>min</th>\n",
       "      <th>median</th>\n",
       "      <th>max</th>\n",
       "    </tr>\n",
       "  </thead>\n",
       "  <tbody>\n",
       "    <tr>\n",
       "      <th>CRIM</th>\n",
       "      <td>506.0</td>\n",
       "      <td>3.593761</td>\n",
       "      <td>8.596783</td>\n",
       "      <td>0.00632</td>\n",
       "      <td>0.25651</td>\n",
       "      <td>88.9762</td>\n",
       "    </tr>\n",
       "    <tr>\n",
       "      <th>ZN</th>\n",
       "      <td>506.0</td>\n",
       "      <td>11.363636</td>\n",
       "      <td>23.322453</td>\n",
       "      <td>0.00000</td>\n",
       "      <td>0.00000</td>\n",
       "      <td>100.0000</td>\n",
       "    </tr>\n",
       "    <tr>\n",
       "      <th>INDUS</th>\n",
       "      <td>506.0</td>\n",
       "      <td>11.136779</td>\n",
       "      <td>6.860353</td>\n",
       "      <td>0.46000</td>\n",
       "      <td>9.69000</td>\n",
       "      <td>27.7400</td>\n",
       "    </tr>\n",
       "    <tr>\n",
       "      <th>CHAS</th>\n",
       "      <td>506.0</td>\n",
       "      <td>0.069170</td>\n",
       "      <td>0.253994</td>\n",
       "      <td>0.00000</td>\n",
       "      <td>0.00000</td>\n",
       "      <td>1.0000</td>\n",
       "    </tr>\n",
       "    <tr>\n",
       "      <th>NOX</th>\n",
       "      <td>506.0</td>\n",
       "      <td>0.554695</td>\n",
       "      <td>0.115878</td>\n",
       "      <td>0.38500</td>\n",
       "      <td>0.53800</td>\n",
       "      <td>0.8710</td>\n",
       "    </tr>\n",
       "    <tr>\n",
       "      <th>RM</th>\n",
       "      <td>506.0</td>\n",
       "      <td>6.284634</td>\n",
       "      <td>0.702617</td>\n",
       "      <td>3.56100</td>\n",
       "      <td>6.20850</td>\n",
       "      <td>8.7800</td>\n",
       "    </tr>\n",
       "    <tr>\n",
       "      <th>AGE</th>\n",
       "      <td>506.0</td>\n",
       "      <td>68.574901</td>\n",
       "      <td>28.148861</td>\n",
       "      <td>2.90000</td>\n",
       "      <td>77.50000</td>\n",
       "      <td>100.0000</td>\n",
       "    </tr>\n",
       "    <tr>\n",
       "      <th>DIS</th>\n",
       "      <td>506.0</td>\n",
       "      <td>3.795043</td>\n",
       "      <td>2.105710</td>\n",
       "      <td>1.12960</td>\n",
       "      <td>3.20745</td>\n",
       "      <td>12.1265</td>\n",
       "    </tr>\n",
       "    <tr>\n",
       "      <th>RAD</th>\n",
       "      <td>506.0</td>\n",
       "      <td>9.549407</td>\n",
       "      <td>8.707259</td>\n",
       "      <td>1.00000</td>\n",
       "      <td>5.00000</td>\n",
       "      <td>24.0000</td>\n",
       "    </tr>\n",
       "    <tr>\n",
       "      <th>TAX</th>\n",
       "      <td>506.0</td>\n",
       "      <td>408.237154</td>\n",
       "      <td>168.537116</td>\n",
       "      <td>187.00000</td>\n",
       "      <td>330.00000</td>\n",
       "      <td>711.0000</td>\n",
       "    </tr>\n",
       "    <tr>\n",
       "      <th>PTRATIO</th>\n",
       "      <td>506.0</td>\n",
       "      <td>18.455534</td>\n",
       "      <td>2.164946</td>\n",
       "      <td>12.60000</td>\n",
       "      <td>19.05000</td>\n",
       "      <td>22.0000</td>\n",
       "    </tr>\n",
       "    <tr>\n",
       "      <th>B</th>\n",
       "      <td>506.0</td>\n",
       "      <td>356.674032</td>\n",
       "      <td>91.294864</td>\n",
       "      <td>0.32000</td>\n",
       "      <td>391.44000</td>\n",
       "      <td>396.9000</td>\n",
       "    </tr>\n",
       "    <tr>\n",
       "      <th>LSTAT</th>\n",
       "      <td>506.0</td>\n",
       "      <td>12.653063</td>\n",
       "      <td>7.141062</td>\n",
       "      <td>1.73000</td>\n",
       "      <td>11.36000</td>\n",
       "      <td>37.9700</td>\n",
       "    </tr>\n",
       "    <tr>\n",
       "      <th>MEDV</th>\n",
       "      <td>506.0</td>\n",
       "      <td>22.532806</td>\n",
       "      <td>9.197104</td>\n",
       "      <td>5.00000</td>\n",
       "      <td>21.20000</td>\n",
       "      <td>50.0000</td>\n",
       "    </tr>\n",
       "  </tbody>\n",
       "</table>\n",
       "</div>"
      ],
      "text/plain": [
       "         count        mean         std        min     median       max\n",
       "CRIM     506.0    3.593761    8.596783    0.00632    0.25651   88.9762\n",
       "ZN       506.0   11.363636   23.322453    0.00000    0.00000  100.0000\n",
       "INDUS    506.0   11.136779    6.860353    0.46000    9.69000   27.7400\n",
       "CHAS     506.0    0.069170    0.253994    0.00000    0.00000    1.0000\n",
       "NOX      506.0    0.554695    0.115878    0.38500    0.53800    0.8710\n",
       "RM       506.0    6.284634    0.702617    3.56100    6.20850    8.7800\n",
       "AGE      506.0   68.574901   28.148861    2.90000   77.50000  100.0000\n",
       "DIS      506.0    3.795043    2.105710    1.12960    3.20745   12.1265\n",
       "RAD      506.0    9.549407    8.707259    1.00000    5.00000   24.0000\n",
       "TAX      506.0  408.237154  168.537116  187.00000  330.00000  711.0000\n",
       "PTRATIO  506.0   18.455534    2.164946   12.60000   19.05000   22.0000\n",
       "B        506.0  356.674032   91.294864    0.32000  391.44000  396.9000\n",
       "LSTAT    506.0   12.653063    7.141062    1.73000   11.36000   37.9700\n",
       "MEDV     506.0   22.532806    9.197104    5.00000   21.20000   50.0000"
      ]
     },
     "execution_count": 122,
     "metadata": {},
     "output_type": "execute_result"
    }
   ],
   "source": [
    "summary = boston.describe().transpose()\n",
    "summary.columns = ['count','mean','std','min','25%','median','75%','max']\n",
    "summary[['count','mean','std','min','median','max']]"
   ]
  },
  {
   "cell_type": "markdown",
   "metadata": {
    "ein.tags": "worksheet-0",
    "slideshow": {
     "slide_type": "-"
    }
   },
   "source": [
    "### 1.4 Simple statistical test\n",
    "\n",
    "Are newer homes more expensive?  Perhaps, as these are more modern.\n",
    "But the old ones may be located in more desirable neighborhoods.\n",
    "Let's find out!\n",
    "\n",
    "- a: Split the sample into 'new' and 'old' neighborhoods using the median\n",
    "age in the data as the threshold value.  (Let's ignore the neighborhoods where average\n",
    "age is exactly equal to the median and only focus on older and newer ones).\n",
    "- b: show the average house values in old and new neighborhoods.\n",
    "- c: Using a t-test, compare the median house value in old and new\n",
    "neighborhoods.  Can you reject the null hypothesis that prices are equal?\n",
    "\n",
    "Hint: check for _t_-test in `scipy.stats`."
   ]
  },
  {
   "cell_type": "code",
   "execution_count": 123,
   "metadata": {
    "autoscroll": false,
    "ein.tags": "worksheet-0",
    "slideshow": {
     "slide_type": "-"
    }
   },
   "outputs": [
    {
     "name": "stdout",
     "output_type": "stream",
     "text": [
      "Average price of old houses:  19.25889328063241\n",
      "Average price of new houses:  25.80671936758895\n",
      "p value:  1.54770611317e-16\n"
     ]
    }
   ],
   "source": [
    "# a: Split dataset into new and old using the median age\n",
    "age_median = boston['AGE'].median()\n",
    "old = boston[boston.AGE > age_median]\n",
    "new = boston[boston.AGE < age_median]\n",
    "\n",
    "# b: show the average house values in old and new neighborhoods\n",
    "print('Average price of old houses: ', old.MEDV.mean())\n",
    "print('Average price of new houses: ', new.MEDV.mean())\n",
    "\n",
    "# c: Using a t-test, compare the median house value in old and new neighborhoods\n",
    "ttest = sp.stats.ttest_ind(old.MEDV, new.MEDV, equal_var=False)\n",
    "print('p value: ', ttest.pvalue)"
   ]
  },
  {
   "cell_type": "markdown",
   "metadata": {
    "ein.tags": "worksheet-0",
    "slideshow": {
     "slide_type": "-"
    }
   },
   "source": [
    "The null hypothesis can be rejected because the p value is less than 0.05. Therefore, we can say that newer homes are more expensive (or a different price) than older homes with statistical significance."
   ]
  },
  {
   "cell_type": "markdown",
   "metadata": {
    "ein.tags": "worksheet-0",
    "slideshow": {
     "slide_type": "-"
    }
   },
   "source": [
    "### 1.5 Grouped Operations\n",
    "\n",
    "In these exercise, you **have to use _groupby_** grouping operator.\n",
    "\n",
    "#### 1.5.1 Price and number of rooms\n",
    "\n",
    "How does the average house price depend on the number of rooms?\n",
    "Compute the mean price by number of rooms.  Note: as this is _average\n",
    "number of rooms_, you have to convert it to an integer, or make it\n",
    "categorical in another way.\n"
   ]
  },
  {
   "cell_type": "code",
   "execution_count": 130,
   "metadata": {
    "autoscroll": false,
    "ein.tags": "worksheet-0",
    "slideshow": {
     "slide_type": "-"
    }
   },
   "outputs": [
    {
     "data": {
      "text/plain": [
       "RM_INT\n",
       "3    25.300000\n",
       "4    16.023077\n",
       "5    17.487342\n",
       "6    22.015985\n",
       "7    36.917647\n",
       "8    44.200000\n",
       "Name: MEDV, dtype: float64"
      ]
     },
     "execution_count": 130,
     "metadata": {},
     "output_type": "execute_result"
    }
   ],
   "source": [
    "## compute it here.  Use 'groupy' operator!\n",
    "boston['RM_INT'] = boston.RM.astype(int)\n",
    "boston.groupby('RM_INT').MEDV.mean()"
   ]
  },
  {
   "cell_type": "markdown",
   "metadata": {
    "ein.tags": "worksheet-0",
    "slideshow": {
     "slide_type": "-"
    }
   },
   "source": [
    "#### 1.5.2 size and location\n",
    "\n",
    "But the price may not just depend on the size but also on location.\n",
    "Analyze the average price depending on size (as above), depending on\n",
    "whether the neighborhood is adjacent to Charles river or not."
   ]
  },
  {
   "cell_type": "code",
   "execution_count": 129,
   "metadata": {
    "autoscroll": false,
    "ein.tags": "worksheet-0",
    "slideshow": {
     "slide_type": "-"
    }
   },
   "outputs": [
    {
     "data": {
      "text/plain": [
       "CHAS\n",
       "0.0    5.762208\n",
       "1.0    5.971429\n",
       "Name: RM_INT, dtype: float64"
      ]
     },
     "execution_count": 129,
     "metadata": {},
     "output_type": "execute_result"
    }
   ],
   "source": [
    "## analyze it here, use groupby\n",
    "boston.groupby('CHAS').RM_INT.mean()"
   ]
  },
  {
   "cell_type": "markdown",
   "metadata": {
    "ein.tags": "worksheet-0",
    "slideshow": {
     "slide_type": "-"
    }
   },
   "source": [
    "## Part 2: Histograms and Scatterplots\n",
    "\n",
    "### 2.1: Histogram of housing prices\n",
    "\n",
    "Below you will find some very basic code to make a very basic\n",
    "histogram of median housing prices (the \"target\" variable) for your\n",
    "dataset.  Your first task is to make this graph look pretty by doing\n",
    "the following:\n",
    "\n",
    "1. Add appropriate titles and labels to, make sure to explain the units\n",
    "2. Change the bin width on the histogram to be $1000\n",
    "3. Remove the axes on the top and right side of the plot window\n",
    "4. Change the color of the bars to be green, and remove the black\n",
    "borders from the bars\n",
    "5. Ensure the histogram does not result in printing incomprehensible list of numbers in the output cell as this sample code does. \n"
   ]
  },
  {
   "cell_type": "code",
   "execution_count": 233,
   "metadata": {
    "autoscroll": false,
    "ein.tags": "worksheet-0",
    "slideshow": {
     "slide_type": "-"
    }
   },
   "outputs": [
    {
     "data": {
      "image/png": "[encoded data removed]",
      "text/plain": [
       "<matplotlib.figure.Figure at 0x114c7a240>"
      ]
     },
     "metadata": {},
     "output_type": "display_data"
    }
   ],
   "source": [
    "# edit the code below to make the graph look good\n",
    "fig = plt.figure(figsize = (8, 6))\n",
    "plt.hist(bdata.target, bins = \"auto\", rwidth= 0.85, color='pink')\n",
    "plt.title('Histogram of Housing Prices')\n",
    "plt.xlabel(\"Median Housing Price of Neighborhood ($1k)\")\n",
    "plt.ylabel(\"Number of Neighborhoods\")\n",
    "plt.show()"
   ]
  },
  {
   "cell_type": "markdown",
   "metadata": {
    "ein.tags": "worksheet-0",
    "slideshow": {
     "slide_type": "-"
    }
   },
   "source": [
    "### 2.2: Scatter plot of housing prices and crime\n",
    "\n",
    "Use matplotlib to create a scatter plot that shows the relationship\n",
    "between the median value of the home (y-axis) and the per-capita crime\n",
    "rate (x-axis).  Properly label your axes, and make sure that your\n",
    "graphic looks polished and professional.\n"
   ]
  },
  {
   "cell_type": "code",
   "execution_count": 234,
   "metadata": {
    "autoscroll": false,
    "ein.tags": "worksheet-0",
    "slideshow": {
     "slide_type": "-"
    }
   },
   "outputs": [
    {
     "data": {
      "image/png": "[encoded data removed]",
      "text/plain": [
       "<matplotlib.figure.Figure at 0x1a19d1a828>"
      ]
     },
     "metadata": {},
     "output_type": "display_data"
    }
   ],
   "source": [
    "fig = plt.figure(figsize = (8, 6))\n",
    "plt.scatter(boston.CRIM, boston.MEDV, facecolor='pink')\n",
    "plt.title('Scatterplot of Housing Prices and Crime')\n",
    "plt.xlabel(\"Crime Rate\")\n",
    "plt.ylabel(\"Median Housing Price of Neighborhood ($1k)\")\n",
    "plt.show()"
   ]
  },
  {
   "cell_type": "markdown",
   "metadata": {
    "ein.tags": "worksheet-0",
    "slideshow": {
     "slide_type": "-"
    }
   },
   "source": [
    "### 2.3: Interpret\n",
    "\n",
    "What do you observe in the above scatter plot? Does there appear to be\n",
    "a relationship between crime rates and housing prices in Boston?\n",
    "Calculate the correlation between these two variables. Do you think\n",
    "this relationship is causal, or just a correlation?   Can you provide\n",
    "examples of all 3 ways the causality may go here?"
   ]
  },
  {
   "cell_type": "code",
   "execution_count": 160,
   "metadata": {
    "autoscroll": false,
    "ein.tags": "worksheet-0",
    "slideshow": {
     "slide_type": "-"
    }
   },
   "outputs": [
    {
     "name": "stdout",
     "output_type": "stream",
     "text": [
      "p value:  3.45914192998e-168\n",
      "correlation:  -0.385831689884\n"
     ]
    }
   ],
   "source": [
    "# compute correlation (should be b/w -1 and 1)\n",
    "print('p value: ', sp.stats.ttest_ind(boston.MEDV, boston.CRIM, equal_var=False).pvalue)\n",
    "print('correlation: ', np.corrcoef(boston.MEDV, boston.CRIM)[0, 1])"
   ]
  },
  {
   "cell_type": "markdown",
   "metadata": {
    "ein.tags": "worksheet-0",
    "slideshow": {
     "slide_type": "-"
    }
   },
   "source": [
    "The scatterplot shows that as Crime Rate increases, Median Housing Price of Neighborhood decreases. This correlation seems to be less so when crime is higher. With a p value less than 0.05, we can see that this relationship is statistically significant.\n",
    "\n",
    "We can provide examples of all 3 ways of causality that may go here:\n",
    "1. Higher Crime Rate causes Median Housing Price of Neighborhood to go down, as the neighborhood would be considered more dangerous and less desirable.\n",
    "2. A lower Median Housing Price of Neighborhood causes higher Crime Rate. Poorer areas may harbor people who are more affiliated with crime, or perhaps richer areas are more protected (gates, police, etc.) and crime is hard to follow through.\n",
    "3. Another factor is affecting the relationship between Crime Rate and Median Housing Price of Neighborhood (i.e. a big event happening in the area that may trigger more crime)."
   ]
  },
  {
   "cell_type": "markdown",
   "metadata": {
    "ein.tags": "worksheet-0",
    "slideshow": {
     "slide_type": "-"
    }
   },
   "source": [
    "### 2.4 Correlation Matrix\n",
    "\n",
    "Calculate the correlation of every pair of variables in the\n",
    "dataset. Create a *K* x *K* matrix where the value in the (*i*,*j*)\n",
    "cell is the correlation between the *i*th and *j*th variable. Show off\n",
    "your skills by coloring the cell so that large positive correlations\n",
    "appear green and large negative correlations appear red (use a\n",
    "gradient to make this pretty). What two variables appear to me most\n",
    "positively and negatively correlated?"
   ]
  },
  {
   "cell_type": "code",
   "execution_count": 235,
   "metadata": {
    "autoscroll": false,
    "ein.tags": "worksheet-0",
    "slideshow": {
     "slide_type": "-"
    }
   },
   "outputs": [
    {
     "data": {
      "image/png": "[encoded data removed]",
      "text/plain": [
       "<matplotlib.figure.Figure at 0x1a1adecf98>"
      ]
     },
     "metadata": {},
     "output_type": "display_data"
    }
   ],
   "source": [
    "# enter your code here\n",
    "## hint: check out matplotlib colorbar function\n",
    "fig = plt.figure(figsize = (13, 13))\n",
    "plt.matshow(boston.corr(), fignum = fig.number)\n",
    "plt.xticks(range(len(boston.columns)), boston.columns)\n",
    "plt.yticks(range(len(boston.columns)), boston.columns)\n",
    "\n",
    "plt.imshow(boston.corr(), cmap='RdYlGn');\n",
    "plt.colorbar()\n",
    "\n",
    "plt.show()"
   ]
  },
  {
   "cell_type": "markdown",
   "metadata": {
    "ein.tags": "worksheet-0",
    "slideshow": {
     "slide_type": "-"
    }
   },
   "source": [
    "*What two variables appear to be most positively and negatively correlated?* Well, we can see that *RAD* and *TAX* have a strong positive correlation of 0.91, while *AGE* and *DIS* have a strong negative correlation of 0.75."
   ]
  },
  {
   "cell_type": "markdown",
   "metadata": {
    "ein.tags": "worksheet-0",
    "slideshow": {
     "slide_type": "-"
    }
   },
   "source": [
    "### 2.5 Create your own (creative and effective) visualization\n",
    "\n",
    "Use another type of graph or chart to illustrate an interesting\n",
    "pattern in the data.  Be creative in your visualization, and make sure\n",
    "to produce a \"publication-quality\" graph.  Points will be given for\n",
    "useful and creative graphs; points will be deducted for confusing\n",
    "issues like unlabeled axes.  If you're new to data visualization,\n",
    "[this guide](http://pubs.aeaweb.org/doi/pdfplus/10.1257/jep.28.1.209)\n",
    "is a good place to start."
   ]
  },
  {
   "cell_type": "code",
   "execution_count": 236,
   "metadata": {
    "autoscroll": false,
    "ein.tags": "worksheet-0",
    "slideshow": {
     "slide_type": "-"
    }
   },
   "outputs": [
    {
     "data": {
      "image/png": "[encoded data removed]",
      "text/plain": [
       "<matplotlib.figure.Figure at 0x1a1aed1668>"
      ]
     },
     "metadata": {},
     "output_type": "display_data"
    }
   ],
   "source": [
    "# enter your code here\n",
    "#plt.scatter(boston.PTRATIO, boston.MEDV, s=boston.AGE, c=boston.RM, alpha=0.5)\n",
    "fig = plt.figure(figsize = (12, 9))\n",
    "plt.scatter(boston.AGE, boston.MEDV, c=boston.RM)\n",
    "\n",
    "# draw line\n",
    "plt.plot(np.unique(boston.AGE), np.poly1d(np.polyfit(boston.AGE, boston.MEDV, 2))\n",
    "         (np.unique(boston.AGE)), color = 'black')\n",
    "\n",
    "# labels\n",
    "plt.title('Housing Prices by Age', size = 20)\n",
    "plt.xlabel(\"Age - Proportion of Old Units\", size = 15)\n",
    "plt.ylabel(\"Median Housing Price of Neighborhood ($1k)\", size = 15)\n",
    "cbar = plt.colorbar()\n",
    "cbar.set_label('# of Rooms', rotation=270, size = 15)\n",
    "\n",
    "plt.show()"
   ]
  },
  {
   "cell_type": "markdown",
   "metadata": {},
   "source": [
    "We can compare the median housing price of neighborhood by the proportion of old units (prior to 1940). We see that as age increases, the median housing price decreases. We use color to show the relationship of housing size (measured by number of rooms) to the housing price and age. We can see darker purple units (less rooms) more on the side of lower median housing price and higher age. "
   ]
  },
  {
   "cell_type": "markdown",
   "metadata": {
    "ein.tags": "worksheet-0",
    "slideshow": {
     "slide_type": "-"
    }
   },
   "source": [
    "## 3. Finally, tell us how many hours did you spend solving this problem set?"
   ]
  },
  {
   "cell_type": "markdown",
   "metadata": {},
   "source": [
    "4-5 hours"
   ]
  }
 ],
 "metadata": {
  "kernelspec": {
   "display_name": "Python 3",
   "language": "python",
   "name": "python3"
  },
  "language_info": {
   "codemirror_mode": {
    "name": "ipython",
    "version": 3
   },
   "file_extension": ".py",
   "mimetype": "text/x-python",
   "name": "python",
   "nbconvert_exporter": "python",
   "pygments_lexer": "ipython3",
   "version": "3.6.3"
  },
  "name": "ps03-pandas.ipynb"
 },
 "nbformat": 4,
 "nbformat_minor": 2
}
