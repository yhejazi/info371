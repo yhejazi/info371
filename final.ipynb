{
 "cells": [
  {
   "cell_type": "markdown",
   "metadata": {},
   "source": [
    "# INFO371 Final Exam/Winter 2019\n",
    "Score: 20/20\n",
    "\n",
    "## Introduction\n",
    "\n",
    "This is the final exam. As you can see, it is heavily influenced from PS4 and 6. Rules:\n",
    "- You may use all available materials, including internet sources\n",
    "- You must not communicate with the others. This is an individual exam.\n",
    "- References must be appropriately cited. Links to solutions copied from websites, such as StackOverflow must be provided in code comments. If you are re-using code from your previous problem sets, mention it.\n",
    "- You have to sign the compliance form, attached on the last page, and return it together with the rest of the exam (a cellphone photo of the signed form is OK).\n",
    "- Please explain your answers and show all your work; a complete argument must be presented to obtain full credit.\n",
    "- All plots must be appropriately labeled, and appropriate colors/labels/font sizes must be used. Here I mean appropriate for thYs exam, it does not conform to the looong explanations in Science journal.\n",
    "- You can instructors if you are stuck with something. I want you to spend most of the time on ML problems, not on an obscure technical issue. However, it's somewhat limited how much help we can offer.\n",
    "The exam contains 2 questions. The first one uses Boston Housing data, the second one is about text classification of newgroup articles (and the data is probably new to you). I expect you to use existing packages and not implement any code yourself. But you are welcome to, and you are also welcome to explore other avenues besides strictly asked below.\n",
    "As always, please submit your results in two ways: as a code (notebook/markdown/...) and as a final version (html/pdf/...).\n",
    "Good luck!"
   ]
  },
  {
   "cell_type": "markdown",
   "metadata": {},
   "source": [
    "## Regression (10pt)\n",
    "\n",
    "Your first task is to demonstrate your skills on the good old (and boring) Boston housing data. You estimate Boston house prices (medv) using all other features as predictors. Use cross-validation to establish the best predictor, we don't spend time on a separate testing data here.\n",
    "I expect you to use existing packages and functions, not to implement the methods yourself. However, feel free implement your own, or to re-use something you have done for a previous problem set.\n",
    "\n",
    "1) Load Boston data. It's located in R packages MASS (just use MASS::Boston), and in sklearn where you can load it as"
   ]
  },
  {
   "cell_type": "code",
   "execution_count": 6,
   "metadata": {
    "collapsed": true
   },
   "outputs": [],
   "source": [
    "import numpy as np\n",
    "import pandas as pd\n",
    "import matplotlib.pyplot as plt\n",
    "from sklearn.datasets import load_boston\n",
    "bdata = load_boston()\n",
    "X = bdata.data\n",
    "y = bdata.target"
   ]
  },
  {
   "cell_type": "code",
   "execution_count": 19,
   "metadata": {},
   "outputs": [
    {
     "name": "stdout",
     "output_type": "stream",
     "text": [
      "keys: dict_keys(['data', 'target', 'feature_names', 'DESCR'])\n",
      "\n",
      "feature names: ['CRIM' 'ZN' 'INDUS' 'CHAS' 'NOX' 'RM' 'AGE' 'DIS' 'RAD' 'TAX' 'PTRATIO'\n",
      " 'B' 'LSTAT']\n",
      "\n",
      "data shape: (506, 13)\n",
      "\n",
      "target shape: (506,)\n"
     ]
    }
   ],
   "source": [
    "# check also boston.feature_names and other information\n",
    "print('keys:', bdata.keys())\n",
    "print('\\nfeature names:', bdata.feature_names)\n",
    "print('\\ndata shape:', bdata.data.shape)\n",
    "print('\\ntarget shape:', bdata.target.shape)"
   ]
  },
  {
   "cell_type": "markdown",
   "metadata": {},
   "source": [
    "Ensure that target MEDV is separated from data, and all features are numeric (this is already the case if you use sklearn)."
   ]
  },
  {
   "cell_type": "code",
   "execution_count": 25,
   "metadata": {},
   "outputs": [
    {
     "data": {
      "text/html": [
       "<div>\n",
       "<style>\n",
       "    .dataframe thead tr:only-child th {\n",
       "        text-align: right;\n",
       "    }\n",
       "\n",
       "    .dataframe thead th {\n",
       "        text-align: left;\n",
       "    }\n",
       "\n",
       "    .dataframe tbody tr th {\n",
       "        vertical-align: top;\n",
       "    }\n",
       "</style>\n",
       "<table border=\"1\" class=\"dataframe\">\n",
       "  <thead>\n",
       "    <tr style=\"text-align: right;\">\n",
       "      <th></th>\n",
       "      <th>CRIM</th>\n",
       "      <th>ZN</th>\n",
       "      <th>INDUS</th>\n",
       "      <th>CHAS</th>\n",
       "      <th>NOX</th>\n",
       "      <th>RM</th>\n",
       "      <th>AGE</th>\n",
       "      <th>DIS</th>\n",
       "      <th>RAD</th>\n",
       "      <th>TAX</th>\n",
       "      <th>PTRATIO</th>\n",
       "      <th>B</th>\n",
       "      <th>LSTAT</th>\n",
       "    </tr>\n",
       "  </thead>\n",
       "  <tbody>\n",
       "    <tr>\n",
       "      <th>0</th>\n",
       "      <td>0.00632</td>\n",
       "      <td>18.0</td>\n",
       "      <td>2.31</td>\n",
       "      <td>0.0</td>\n",
       "      <td>0.538</td>\n",
       "      <td>6.575</td>\n",
       "      <td>65.2</td>\n",
       "      <td>4.0900</td>\n",
       "      <td>1.0</td>\n",
       "      <td>296.0</td>\n",
       "      <td>15.3</td>\n",
       "      <td>396.90</td>\n",
       "      <td>4.98</td>\n",
       "    </tr>\n",
       "    <tr>\n",
       "      <th>1</th>\n",
       "      <td>0.02731</td>\n",
       "      <td>0.0</td>\n",
       "      <td>7.07</td>\n",
       "      <td>0.0</td>\n",
       "      <td>0.469</td>\n",
       "      <td>6.421</td>\n",
       "      <td>78.9</td>\n",
       "      <td>4.9671</td>\n",
       "      <td>2.0</td>\n",
       "      <td>242.0</td>\n",
       "      <td>17.8</td>\n",
       "      <td>396.90</td>\n",
       "      <td>9.14</td>\n",
       "    </tr>\n",
       "    <tr>\n",
       "      <th>2</th>\n",
       "      <td>0.02729</td>\n",
       "      <td>0.0</td>\n",
       "      <td>7.07</td>\n",
       "      <td>0.0</td>\n",
       "      <td>0.469</td>\n",
       "      <td>7.185</td>\n",
       "      <td>61.1</td>\n",
       "      <td>4.9671</td>\n",
       "      <td>2.0</td>\n",
       "      <td>242.0</td>\n",
       "      <td>17.8</td>\n",
       "      <td>392.83</td>\n",
       "      <td>4.03</td>\n",
       "    </tr>\n",
       "    <tr>\n",
       "      <th>3</th>\n",
       "      <td>0.03237</td>\n",
       "      <td>0.0</td>\n",
       "      <td>2.18</td>\n",
       "      <td>0.0</td>\n",
       "      <td>0.458</td>\n",
       "      <td>6.998</td>\n",
       "      <td>45.8</td>\n",
       "      <td>6.0622</td>\n",
       "      <td>3.0</td>\n",
       "      <td>222.0</td>\n",
       "      <td>18.7</td>\n",
       "      <td>394.63</td>\n",
       "      <td>2.94</td>\n",
       "    </tr>\n",
       "    <tr>\n",
       "      <th>4</th>\n",
       "      <td>0.06905</td>\n",
       "      <td>0.0</td>\n",
       "      <td>2.18</td>\n",
       "      <td>0.0</td>\n",
       "      <td>0.458</td>\n",
       "      <td>7.147</td>\n",
       "      <td>54.2</td>\n",
       "      <td>6.0622</td>\n",
       "      <td>3.0</td>\n",
       "      <td>222.0</td>\n",
       "      <td>18.7</td>\n",
       "      <td>396.90</td>\n",
       "      <td>5.33</td>\n",
       "    </tr>\n",
       "  </tbody>\n",
       "</table>\n",
       "</div>"
      ],
      "text/plain": [
       "      CRIM    ZN  INDUS  CHAS    NOX     RM   AGE     DIS  RAD    TAX  \\\n",
       "0  0.00632  18.0   2.31   0.0  0.538  6.575  65.2  4.0900  1.0  296.0   \n",
       "1  0.02731   0.0   7.07   0.0  0.469  6.421  78.9  4.9671  2.0  242.0   \n",
       "2  0.02729   0.0   7.07   0.0  0.469  7.185  61.1  4.9671  2.0  242.0   \n",
       "3  0.03237   0.0   2.18   0.0  0.458  6.998  45.8  6.0622  3.0  222.0   \n",
       "4  0.06905   0.0   2.18   0.0  0.458  7.147  54.2  6.0622  3.0  222.0   \n",
       "\n",
       "   PTRATIO       B  LSTAT  \n",
       "0     15.3  396.90   4.98  \n",
       "1     17.8  396.90   9.14  \n",
       "2     17.8  392.83   4.03  \n",
       "3     18.7  394.63   2.94  \n",
       "4     18.7  396.90   5.33  "
      ]
     },
     "execution_count": 25,
     "metadata": {},
     "output_type": "execute_result"
    }
   ],
   "source": [
    "boston = pd.DataFrame(bdata.data)\n",
    "boston.columns = bdata.feature_names[:]\n",
    "boston.head()"
   ]
  },
  {
   "cell_type": "code",
   "execution_count": 26,
   "metadata": {},
   "outputs": [
    {
     "name": "stdout",
     "output_type": "stream",
     "text": [
      "CRIM       float64\n",
      "ZN         float64\n",
      "INDUS      float64\n",
      "CHAS       float64\n",
      "NOX        float64\n",
      "RM         float64\n",
      "AGE        float64\n",
      "DIS        float64\n",
      "RAD        float64\n",
      "TAX        float64\n",
      "PTRATIO    float64\n",
      "B          float64\n",
      "LSTAT      float64\n",
      "dtype: object \n",
      "\n"
     ]
    }
   ],
   "source": [
    "# Are all features numeric?\n",
    "print(boston.dtypes, \"\\n\")"
   ]
  },
  {
   "cell_type": "markdown",
   "metadata": {},
   "source": [
    "2) List all relevant methods you know (and we covered in the class) for predicting MEDV based on this data. In each case also discuss the strenghs and weaknesses of the methods, and list the most important hyperparameters you may consider (more complex methods may have very large number of hyperparameters, so you don't want to list them all). Also, do not consider the optimizer and related tolerances as a hyperparameters."
   ]
  },
  {
   "cell_type": "markdown",
   "metadata": {},
   "source": [
    "**kNN**:\n",
    "\n",
    "Important hyperparameters: The k in k-nearest neighbors.\n",
    "\n",
    "Strengths: simple and surprisingly flexible if you pre-process your data and engineer useful features.\n",
    "\n",
    "Weaknesses: you need to specify the number of neighbors/clusters, which isn't always easy to do\n",
    "\n",
    "**Logistic**:\n",
    "\n",
    "Important hyperparameters: The penalty and C in logistic.\n",
    "\n",
    "Strengths: algorithm can be regularized to avoid overfitting, nice probabilistic interpretation\n",
    "\n",
    "Weaknesses: tends to underperform when there are multiple or non-linear decision boundaries, can't catch complexity\n",
    "\n",
    "**Lasso**:\n",
    "\n",
    "Important hyperparameters: alpha\n",
    "\n",
    "Strengths: majorly used to prevent overfitting, sets less important predictors to zero and helps you with choosing the predictors that can be left out of the model\n",
    "\n",
    "Weaknesses: In many analyses, it can be important to include *all* variables and not drop the ones that do not have significance in the predicting. They could be necessary control variables or their small effect could hold a large significance\n",
    "\n",
    "**Ridge**:\n",
    "\n",
    "Important hyperparameters:: alpha\n",
    "\n",
    "Strengths: majorly used to prevent overfitting by adding a penalty to models that have too large coefficients \n",
    "\n",
    "Weaknesses: Since it includes all the features, it is not very useful in case of exorbitantly high features, say in millions, as it will pose computational challenges.\n",
    "\n",
    "**OLS**:\n",
    "\n",
    "Important hyperparameters: there is none. The number/choice of features is not a hyperparameter, but can be viewed as a post processing or iterative tuning process.\n",
    "\n",
    "Strengths: can be regularized to avoid overfitting, very useful on a huge amount of features where better algorithms suffer from overfitting\n",
    "\n",
    "Weaknesses: performs poorly when there are non-linear relationships (can't catch complexity)"
   ]
  },
  {
   "cell_type": "markdown",
   "metadata": {},
   "source": [
    "3) Use at least three of the methods you listed to predict MEDV based on other attributes. Ideas: OLS, k-NN, trees, Lasso, compare normalized-versus non-normalized features, try different distance metrics.\n",
    "\n",
    "In each case:\n",
    "\n",
    "(a) select a relevant measure of goodness, such as RMSE or R2. \n",
    "\n",
    "(b) loop over selected hyperparameters.\n",
    "\n",
    "(c) cross-validate your result using the selected goodness measure and pick the best set of hyper- parameters.\n",
    "\n",
    "4) Present your results a table, or a graph, or another easily accessible summary."
   ]
  },
  {
   "cell_type": "code",
   "execution_count": 134,
   "metadata": {
    "collapsed": true
   },
   "outputs": [],
   "source": [
    "X_train, X_val, y_train, y_val = train_test_split(X, y, test_size=0.2)"
   ]
  },
  {
   "cell_type": "code",
   "execution_count": null,
   "metadata": {
    "collapsed": true
   },
   "outputs": [],
   "source": [
    "from sklearn.neighbors import KNeighborsRegressor\n",
    "k = [1, 2, 3, 4, 5, 6, 7, 8, 9, 10]\n",
    "scores = {'k': [], 'score': []}\n",
    "\n",
    "for i in k:\n",
    "    neigh = KNeighborsRegressor(n_neighbors=i).fit(X_train, y_train)\n",
    "    scores['k'].append(i)\n",
    "    scores['score'].append(neigh.score(X_val, y_val))\n",
    "\n",
    "scores = pd.DataFrame(scores)   \n",
    "scores"
   ]
  },
  {
   "cell_type": "code",
   "execution_count": 136,
   "metadata": {},
   "outputs": [
    {
     "data": {
      "image/png": "[encoded data removed]",
      "text/plain": [
       "<matplotlib.figure.Figure at 0x1a12805438>"
      ]
     },
     "metadata": {},
     "output_type": "display_data"
    }
   ],
   "source": [
    "plt.plot(scores['k'], scores['score'], c = 'red')\n",
    "plt.xlabel(\"k\")\n",
    "plt.ylabel(\"R2\")\n",
    "plt.title(\"kNN\")\n",
    "plt.ylim((0, 1))\n",
    "plt.show()"
   ]
  },
  {
   "cell_type": "code",
   "execution_count": 137,
   "metadata": {},
   "outputs": [
    {
     "data": {
      "text/html": [
       "<div>\n",
       "<style>\n",
       "    .dataframe thead tr:only-child th {\n",
       "        text-align: right;\n",
       "    }\n",
       "\n",
       "    .dataframe thead th {\n",
       "        text-align: left;\n",
       "    }\n",
       "\n",
       "    .dataframe tbody tr th {\n",
       "        vertical-align: top;\n",
       "    }\n",
       "</style>\n",
       "<table border=\"1\" class=\"dataframe\">\n",
       "  <thead>\n",
       "    <tr style=\"text-align: right;\">\n",
       "      <th></th>\n",
       "      <th>alpha</th>\n",
       "      <th>score</th>\n",
       "    </tr>\n",
       "  </thead>\n",
       "  <tbody>\n",
       "    <tr>\n",
       "      <th>0</th>\n",
       "      <td>0.0</td>\n",
       "      <td>0.767482</td>\n",
       "    </tr>\n",
       "    <tr>\n",
       "      <th>1</th>\n",
       "      <td>0.1</td>\n",
       "      <td>0.783993</td>\n",
       "    </tr>\n",
       "    <tr>\n",
       "      <th>2</th>\n",
       "      <td>0.2</td>\n",
       "      <td>0.781521</td>\n",
       "    </tr>\n",
       "    <tr>\n",
       "      <th>3</th>\n",
       "      <td>0.3</td>\n",
       "      <td>0.775130</td>\n",
       "    </tr>\n",
       "    <tr>\n",
       "      <th>4</th>\n",
       "      <td>0.4</td>\n",
       "      <td>0.767020</td>\n",
       "    </tr>\n",
       "    <tr>\n",
       "      <th>5</th>\n",
       "      <td>0.5</td>\n",
       "      <td>0.758054</td>\n",
       "    </tr>\n",
       "    <tr>\n",
       "      <th>6</th>\n",
       "      <td>0.6</td>\n",
       "      <td>0.748680</td>\n",
       "    </tr>\n",
       "    <tr>\n",
       "      <th>7</th>\n",
       "      <td>0.7</td>\n",
       "      <td>0.739154</td>\n",
       "    </tr>\n",
       "    <tr>\n",
       "      <th>8</th>\n",
       "      <td>0.8</td>\n",
       "      <td>0.729632</td>\n",
       "    </tr>\n",
       "    <tr>\n",
       "      <th>9</th>\n",
       "      <td>0.9</td>\n",
       "      <td>0.720208</td>\n",
       "    </tr>\n",
       "    <tr>\n",
       "      <th>10</th>\n",
       "      <td>1.0</td>\n",
       "      <td>0.710942</td>\n",
       "    </tr>\n",
       "  </tbody>\n",
       "</table>\n",
       "</div>"
      ],
      "text/plain": [
       "    alpha     score\n",
       "0     0.0  0.767482\n",
       "1     0.1  0.783993\n",
       "2     0.2  0.781521\n",
       "3     0.3  0.775130\n",
       "4     0.4  0.767020\n",
       "5     0.5  0.758054\n",
       "6     0.6  0.748680\n",
       "7     0.7  0.739154\n",
       "8     0.8  0.729632\n",
       "9     0.9  0.720208\n",
       "10    1.0  0.710942"
      ]
     },
     "execution_count": 137,
     "metadata": {},
     "output_type": "execute_result"
    }
   ],
   "source": [
    "from sklearn.linear_model import Ridge\n",
    "alphas = [0, 0.1, 0.2, 0.3, 0.4, 0.5, 0.6, 0.7, 0.8, 0.9, 1.0]\n",
    "scores = {'alpha': [], 'score': []}\n",
    "\n",
    "for i in alphas:\n",
    "    ridgereg = Ridge(alpha = i, normalize=True)\n",
    "    ridgereg.fit(X_train, y_train)\n",
    "    scores['alpha'].append(i)\n",
    "    scores['score'].append(ridgereg.score(X_val, y_val))\n",
    "    \n",
    "scores = pd.DataFrame(scores)   \n",
    "scores"
   ]
  },
  {
   "cell_type": "code",
   "execution_count": 139,
   "metadata": {},
   "outputs": [
    {
     "data": {
      "image/png": "[encoded data removed]",
      "text/plain": [
       "<matplotlib.figure.Figure at 0x1a12cc9ac8>"
      ]
     },
     "metadata": {},
     "output_type": "display_data"
    }
   ],
   "source": [
    "plt.plot(scores['alpha'], scores['score'], c = 'purple')\n",
    "plt.xlabel(\"alpha\")\n",
    "plt.ylabel(\"R2\")\n",
    "plt.title(\"ridge\")\n",
    "plt.ylim((0, 1))\n",
    "plt.show()"
   ]
  },
  {
   "cell_type": "code",
   "execution_count": 94,
   "metadata": {},
   "outputs": [
    {
     "name": "stderr",
     "output_type": "stream",
     "text": [
      "/Users/yasmine/anaconda3/lib/python3.6/site-packages/ipykernel_launcher.py:8: UserWarning: With alpha=0, this algorithm does not converge well. You are advised to use the LinearRegression estimator\n",
      "  \n",
      "/Users/yasmine/anaconda3/lib/python3.6/site-packages/sklearn/linear_model/coordinate_descent.py:477: UserWarning: Coordinate descent with no regularization may lead to unexpected results and is discouraged.\n",
      "  positive)\n",
      "/Users/yasmine/anaconda3/lib/python3.6/site-packages/sklearn/linear_model/coordinate_descent.py:491: ConvergenceWarning: Objective did not converge. You might want to increase the number of iterations. Fitting data with very small alpha may cause precision problems.\n",
      "  ConvergenceWarning)\n"
     ]
    },
    {
     "data": {
      "text/html": [
       "<div>\n",
       "<style>\n",
       "    .dataframe thead tr:only-child th {\n",
       "        text-align: right;\n",
       "    }\n",
       "\n",
       "    .dataframe thead th {\n",
       "        text-align: left;\n",
       "    }\n",
       "\n",
       "    .dataframe tbody tr th {\n",
       "        vertical-align: top;\n",
       "    }\n",
       "</style>\n",
       "<table border=\"1\" class=\"dataframe\">\n",
       "  <thead>\n",
       "    <tr style=\"text-align: right;\">\n",
       "      <th></th>\n",
       "      <th>alpha</th>\n",
       "      <th>score</th>\n",
       "    </tr>\n",
       "  </thead>\n",
       "  <tbody>\n",
       "    <tr>\n",
       "      <th>0</th>\n",
       "      <td>0.0</td>\n",
       "      <td>0.740608</td>\n",
       "    </tr>\n",
       "    <tr>\n",
       "      <th>1</th>\n",
       "      <td>0.1</td>\n",
       "      <td>0.582783</td>\n",
       "    </tr>\n",
       "    <tr>\n",
       "      <th>2</th>\n",
       "      <td>0.2</td>\n",
       "      <td>0.341435</td>\n",
       "    </tr>\n",
       "    <tr>\n",
       "      <th>3</th>\n",
       "      <td>0.3</td>\n",
       "      <td>0.004698</td>\n",
       "    </tr>\n",
       "    <tr>\n",
       "      <th>4</th>\n",
       "      <td>0.4</td>\n",
       "      <td>0.000000</td>\n",
       "    </tr>\n",
       "    <tr>\n",
       "      <th>5</th>\n",
       "      <td>0.5</td>\n",
       "      <td>0.000000</td>\n",
       "    </tr>\n",
       "    <tr>\n",
       "      <th>6</th>\n",
       "      <td>0.6</td>\n",
       "      <td>0.000000</td>\n",
       "    </tr>\n",
       "    <tr>\n",
       "      <th>7</th>\n",
       "      <td>0.7</td>\n",
       "      <td>0.000000</td>\n",
       "    </tr>\n",
       "    <tr>\n",
       "      <th>8</th>\n",
       "      <td>0.8</td>\n",
       "      <td>0.000000</td>\n",
       "    </tr>\n",
       "    <tr>\n",
       "      <th>9</th>\n",
       "      <td>0.9</td>\n",
       "      <td>0.000000</td>\n",
       "    </tr>\n",
       "    <tr>\n",
       "      <th>10</th>\n",
       "      <td>1.0</td>\n",
       "      <td>0.000000</td>\n",
       "    </tr>\n",
       "  </tbody>\n",
       "</table>\n",
       "</div>"
      ],
      "text/plain": [
       "    alpha     score\n",
       "0     0.0  0.740608\n",
       "1     0.1  0.582783\n",
       "2     0.2  0.341435\n",
       "3     0.3  0.004698\n",
       "4     0.4  0.000000\n",
       "5     0.5  0.000000\n",
       "6     0.6  0.000000\n",
       "7     0.7  0.000000\n",
       "8     0.8  0.000000\n",
       "9     0.9  0.000000\n",
       "10    1.0  0.000000"
      ]
     },
     "execution_count": 94,
     "metadata": {},
     "output_type": "execute_result"
    }
   ],
   "source": [
    "from sklearn.linear_model import Lasso\n",
    "\n",
    "scores = {'alpha': [], 'score': []}\n",
    "for i in alphas:\n",
    "    lassoreg = Lasso(alpha = i, normalize=True)\n",
    "    lassoreg.fit(X_train, y_train)\n",
    "    scores['alpha'].append(i)\n",
    "    scores['score'].append(lassoreg.score(X_val, y_val))\n",
    "    \n",
    "scores = pd.DataFrame(scores)   \n",
    "scores"
   ]
  },
  {
   "cell_type": "code",
   "execution_count": 95,
   "metadata": {
    "scrolled": true
   },
   "outputs": [
    {
     "data": {
      "image/png": "[encoded data removed]",
      "text/plain": [
       "<matplotlib.figure.Figure at 0x1a12eb3780>"
      ]
     },
     "metadata": {},
     "output_type": "display_data"
    }
   ],
   "source": [
    "plt.plot(scores['alpha'], scores['score'], c = 'blue')\n",
    "plt.xlabel(\"alpha\")\n",
    "plt.ylabel(\"R2\")\n",
    "plt.title(\"lasso\")\n",
    "plt.show()"
   ]
  },
  {
   "cell_type": "markdown",
   "metadata": {},
   "source": [
    "5) Comment your results. Which methods performed best? Can you explain why?"
   ]
  },
  {
   "cell_type": "markdown",
   "metadata": {},
   "source": [
    "For the cross-validation I performed, I got that Ridge was the best model of the 3, with alpha = 1. We see better performance than Lasso and knn as well with different alphas for Ridge. The best R^2 Coeff we get with alpha = 1 is .784. This may be because ridge is able to normalize while including all the features. kNN performed better before cross-validation, and it performed better when I did different cross validations. This can be because there's not much overlap in the data, so kNN with fewer neighbors can easily pick this up."
   ]
  },
  {
   "cell_type": "markdown",
   "metadata": {},
   "source": [
    "## Text Classification (10p)\n",
    "\n",
    "This question is a compilation of your PS4 and PS6. Your task is to categorize texts into newgroups (there are 20 newsgroups) using k-NN and Naive Bayes methods. I expect you to use the existing stock libraries but you are welcome to amend what you implemented yourself. We follow the testing data approach, so you are supposed to split the data, keep testing data well away, and at the end report the final performance.\n",
    "The data is from UCI ML library and you can read a brief description there. Note that it includes many traits that make it unfairly nice for NB compared to k-NN. I have done my best to strip it from sensitive information, but it still contains a large number of names, phone numbers, etc, that may hint very well which newsgroup a text belongs to. The cleaned data is converted into a csv file with two attributes: group is the name of the newsgroup, and text is the text itself. There are 20k texts in the sample.\n",
    "Tasks:\n",
    "\n",
    "1) Load the data and save a random subsample (∼ 20%) of it away as testing data. Note: if you know that your computer is slow and you struggled with the data size in PS4 and PS6, you may as well store (say) 75% of it as testing data, or just work on a much smaller sample. On my old desktop, the full run of all models takes ∼ 5 mins and no more than 3G of RAM.\n",
    "\n",
    "In any case, if you cut your sample, please state it clearly along the lines: I chose to work on a subsample of 5000 texts only.\n",
    "\n",
    "Hint: *CountVectorizer* returns a sparse matrix. Keep it sparse. You save a lot of memory (and improve speed)."
   ]
  },
  {
   "cell_type": "code",
   "execution_count": 7,
   "metadata": {},
   "outputs": [
    {
     "data": {
      "text/html": [
       "<div>\n",
       "<style>\n",
       "    .dataframe thead tr:only-child th {\n",
       "        text-align: right;\n",
       "    }\n",
       "\n",
       "    .dataframe thead th {\n",
       "        text-align: left;\n",
       "    }\n",
       "\n",
       "    .dataframe tbody tr th {\n",
       "        vertical-align: top;\n",
       "    }\n",
       "</style>\n",
       "<table border=\"1\" class=\"dataframe\">\n",
       "  <thead>\n",
       "    <tr style=\"text-align: right;\">\n",
       "      <th></th>\n",
       "      <th>group</th>\n",
       "      <th>text</th>\n",
       "    </tr>\n",
       "  </thead>\n",
       "  <tbody>\n",
       "    <tr>\n",
       "      <th>0</th>\n",
       "      <td>alt.atheism</td>\n",
       "      <td>Atheist Resources  Addresses of Atheist Organ...</td>\n",
       "    </tr>\n",
       "    <tr>\n",
       "      <th>1</th>\n",
       "      <td>alt.atheism</td>\n",
       "      <td>--BEGIN PGP SIGNED MESSAGE--  An Introduction ...</td>\n",
       "    </tr>\n",
       "    <tr>\n",
       "      <th>2</th>\n",
       "      <td>alt.atheism</td>\n",
       "      <td>In article   (Charley Wingate) writes: Well, J...</td>\n",
       "    </tr>\n",
       "    <tr>\n",
       "      <th>3</th>\n",
       "      <td>alt.atheism</td>\n",
       "      <td>(..until kings become philosophers or philoso...</td>\n",
       "    </tr>\n",
       "    <tr>\n",
       "      <th>4</th>\n",
       "      <td>alt.atheism</td>\n",
       "      <td>In article (Bob McGwier) writes:  [1] HOWEVER,...</td>\n",
       "    </tr>\n",
       "  </tbody>\n",
       "</table>\n",
       "</div>"
      ],
      "text/plain": [
       "         group                                               text\n",
       "0  alt.atheism   Atheist Resources  Addresses of Atheist Organ...\n",
       "1  alt.atheism  --BEGIN PGP SIGNED MESSAGE--  An Introduction ...\n",
       "2  alt.atheism  In article   (Charley Wingate) writes: Well, J...\n",
       "3  alt.atheism   (..until kings become philosophers or philoso...\n",
       "4  alt.atheism  In article (Bob McGwier) writes:  [1] HOWEVER,..."
      ]
     },
     "execution_count": 7,
     "metadata": {},
     "output_type": "execute_result"
    }
   ],
   "source": [
    "newsgroups = pd.read_csv(\"20-newsgroups.csv\")\n",
    "newsgroups.head()"
   ]
  },
  {
   "cell_type": "code",
   "execution_count": 8,
   "metadata": {
    "collapsed": true
   },
   "outputs": [],
   "source": [
    "newsgroups.text = newsgroups.text.astype(str)\n",
    "newsgroups.group = newsgroups.group.astype(str)"
   ]
  },
  {
   "cell_type": "code",
   "execution_count": 46,
   "metadata": {
    "collapsed": true
   },
   "outputs": [],
   "source": [
    "from sklearn.model_selection import train_test_split\n",
    "train, test = train_test_split(newsgroups, test_size=0.50, random_state=42)"
   ]
  },
  {
   "cell_type": "code",
   "execution_count": 47,
   "metadata": {
    "collapsed": true
   },
   "outputs": [],
   "source": [
    "test.to_csv(path_or_buf='test.csv', index = False)\n",
    "del test"
   ]
  },
  {
   "cell_type": "code",
   "execution_count": 11,
   "metadata": {},
   "outputs": [
    {
     "data": {
      "text/plain": [
       "9998"
      ]
     },
     "execution_count": 11,
     "metadata": {},
     "output_type": "execute_result"
    }
   ],
   "source": [
    "len(train)"
   ]
  },
  {
   "cell_type": "markdown",
   "metadata": {},
   "source": [
    "2) Convert the texts into bag-of-words (no TF-IDF here) and use k-NN with cosine similarity for categorization. Find the best k through CV while trying to maximize accuracy.\n",
    "\n",
    "Hints: sklearn's KNeighborsClassifier does not mention cosine metrics. However, it works for me (and is mentioned under sklearn.neighbors.NearestNeighbors).\n",
    "\n",
    "When you use pd.read_csv, the text may end up of type object and confuse the vectorizer and other text functions. Convert it to str type with something like string = text.astype('str')."
   ]
  },
  {
   "cell_type": "code",
   "execution_count": 44,
   "metadata": {
    "collapsed": true
   },
   "outputs": [],
   "source": [
    "X_train = train[['text']]\n",
    "y_train = train[['group']]\n",
    "param = range(1, 11)"
   ]
  },
  {
   "cell_type": "code",
   "execution_count": 25,
   "metadata": {
    "collapsed": true
   },
   "outputs": [],
   "source": [
    "from sklearn.feature_extraction.text import CountVectorizer\n",
    "from sklearn.neighbors import KNeighborsClassifier\n",
    "from sklearn import metrics\n",
    "import time"
   ]
  },
  {
   "cell_type": "code",
   "execution_count": 14,
   "metadata": {
    "collapsed": true
   },
   "outputs": [],
   "source": [
    "def split_data_frame(df, num_chunks): \n",
    "    listOfDf = list()\n",
    "    chunk_size = len(df) // num_chunks\n",
    "    for i in range(num_chunks):\n",
    "        listOfDf.append(df[i*chunk_size:(i+1)*chunk_size])\n",
    "    return listOfDf"
   ]
  },
  {
   "cell_type": "code",
   "execution_count": 22,
   "metadata": {
    "collapsed": true
   },
   "outputs": [],
   "source": [
    "def cross_val(data, k_chunks, k):\n",
    "    print('Number of chunks:', k_chunks)\n",
    "    print('k:', k)\n",
    "    \n",
    "    chunks = split_data_frame(data, k_chunks)\n",
    "    accuracy_list = []\n",
    "    for chunk_df in chunks:\n",
    "        tmp_train = data[~data.isin(chunk_df)]\n",
    "        X_train = tmp_train.text.astype(str)\n",
    "        y = tmp_train.group.astype(str)\n",
    "\n",
    "        y_output = chunk_df.group\n",
    "        \n",
    "        # initialize the vectorizer\n",
    "        vectorizer = CountVectorizer(min_df=0)\n",
    "        # create the dictionary\n",
    "        vectorizer.fit(X_train)\n",
    "        # `fit` builds the vocabulary\n",
    "        # transform your data into the BOW array\n",
    "        X = vectorizer.transform(X_train).toarray()\n",
    "        words_list = list(vectorizer.get_feature_names())\n",
    "    \n",
    "        # fit knn\n",
    "        neigh = KNeighborsClassifier(n_neighbors = k)\n",
    "        neigh.fit(X, y_train)\n",
    "        \n",
    "        \n",
    "        X_val = vectorizer.transform(chunk_df.text)\n",
    "        predicted = neigh.predict(X_val)\n",
    "\n",
    "        accuracy = metrics.accuracy_score(y_output, predicted) * 100\n",
    "        accuracy_list.append(accuracy)\n",
    "       \n",
    "        print('Accuracy:', accuracy)\n",
    "    print('Average accuracy:', np.mean(accuracy_list))\n",
    "    print('------')"
   ]
  },
  {
   "cell_type": "code",
   "execution_count": 26,
   "metadata": {},
   "outputs": [
    {
     "name": "stdout",
     "output_type": "stream",
     "text": [
      "Number of chunks: 5\n",
      "k: 1\n"
     ]
    },
    {
     "name": "stderr",
     "output_type": "stream",
     "text": [
      "/Users/yasmine/anaconda3/lib/python3.6/site-packages/ipykernel_launcher.py:25: DataConversionWarning: A column-vector y was passed when a 1d array was expected. Please change the shape of y to (n_samples, ), for example using ravel().\n"
     ]
    },
    {
     "name": "stdout",
     "output_type": "stream",
     "text": [
      "Accuracy: 37.8189094547\n",
      "Accuracy: 36.8184092046\n",
      "Accuracy: 37.0185092546\n",
      "Accuracy: 38.2191095548\n",
      "Accuracy: 36.4182091046\n",
      "Average accuracy: 37.2586293147\n",
      "------\n",
      "Time elapsed: 420.0792419910431\n",
      "Number of chunks: 5\n",
      "k: 2\n",
      "Accuracy: 33.0665332666\n",
      "Accuracy: 31.715857929\n",
      "Accuracy: 32.9664832416\n",
      "Accuracy: 33.1165582791\n",
      "Accuracy: 32.316158079\n",
      "Average accuracy: 32.6363181591\n",
      "------\n",
      "Time elapsed: 423.1376988887787\n",
      "Number of chunks: 5\n",
      "k: 3\n",
      "Accuracy: 31.6658329165\n",
      "Accuracy: 30.5152576288\n",
      "Accuracy: 31.2156078039\n",
      "Accuracy: 32.116058029\n",
      "Accuracy: 31.1655827914\n",
      "Average accuracy: 31.3356678339\n",
      "------\n",
      "Time elapsed: 410.5582060813904\n",
      "Number of chunks: 5\n",
      "k: 4\n",
      "Accuracy: 30.1650825413\n",
      "Accuracy: 28.7643821911\n",
      "Accuracy: 29.9649824912\n",
      "Accuracy: 31.9659829915\n",
      "Accuracy: 30.4652326163\n",
      "Average accuracy: 30.2651325663\n",
      "------\n",
      "Time elapsed: 426.17114996910095\n",
      "Number of chunks: 5\n",
      "k: 5\n",
      "Accuracy: 29.9149574787\n",
      "Accuracy: 28.5142571286\n",
      "Accuracy: 29.8649324662\n",
      "Accuracy: 30.9154577289\n",
      "Accuracy: 30.4152076038\n",
      "Average accuracy: 29.9249624812\n",
      "------\n",
      "Time elapsed: 401.02513790130615\n",
      "Number of chunks: 5\n",
      "k: 6\n",
      "Accuracy: 29.9649824912\n",
      "Accuracy: 28.6143071536\n",
      "Accuracy: 29.6648324162\n",
      "Accuracy: 30.5152576288\n",
      "Accuracy: 30.2651325663\n",
      "Average accuracy: 29.8049024512\n",
      "------\n",
      "Time elapsed: 400.12249207496643\n",
      "Number of chunks: 5\n",
      "k: 7\n",
      "Accuracy: 29.5647823912\n",
      "Accuracy: 29.1645822911\n",
      "Accuracy: 29.9149574787\n",
      "Accuracy: 29.4147073537\n",
      "Accuracy: 29.7648824412\n",
      "Average accuracy: 29.5647823912\n",
      "------\n",
      "Time elapsed: 390.2418098449707\n",
      "Number of chunks: 5\n",
      "k: 8\n",
      "Accuracy: 29.4647323662\n",
      "Accuracy: 28.364182091\n",
      "Accuracy: 29.5647823912\n",
      "Accuracy: 29.6648324162\n",
      "Accuracy: 28.8644322161\n",
      "Average accuracy: 29.1845922961\n",
      "------\n",
      "Time elapsed: 437.49167013168335\n",
      "Number of chunks: 5\n",
      "k: 9\n",
      "Accuracy: 30.1150575288\n",
      "Accuracy: 27.8139069535\n",
      "Accuracy: 29.6648324162\n",
      "Accuracy: 29.3646823412\n",
      "Accuracy: 29.0145072536\n",
      "Average accuracy: 29.1945972986\n",
      "------\n",
      "Time elapsed: 448.59814620018005\n",
      "Number of chunks: 5\n",
      "k: 10\n",
      "Accuracy: 29.7148574287\n",
      "Accuracy: 28.1140570285\n",
      "Accuracy: 29.1645822911\n",
      "Accuracy: 28.8144072036\n",
      "Accuracy: 28.8144072036\n",
      "Average accuracy: 28.9244622311\n",
      "------\n",
      "Time elapsed: 421.8404767513275\n"
     ]
    }
   ],
   "source": [
    "for t in param:\n",
    "    start = time.time()\n",
    "    cross_val(train, 5, t)\n",
    "    end = time.time()\n",
    "    print(\"Time elapsed:\", end - start)"
   ]
  },
  {
   "cell_type": "markdown",
   "metadata": {},
   "source": [
    "3) Now repeat the exact same exercise with TF-IDF. I expect you to use TF-IDF vectorizer, but you are welcome to use your own implementation. Note, however, that sklearn-s TF-IDF definition differs slightly from Murphy's, the one we used in PS4."
   ]
  },
  {
   "cell_type": "code",
   "execution_count": 31,
   "metadata": {
    "collapsed": true
   },
   "outputs": [],
   "source": [
    "from sklearn.feature_extraction.text import TfidfVectorizer\n",
    "\n",
    "def tfidf_cross_val(data, k_chunks, k):\n",
    "    print('Number of chunks:', k_chunks)\n",
    "    print('k:', k)\n",
    "    \n",
    "    chunks = split_data_frame(data, k_chunks)\n",
    "    accuracy_list = []\n",
    "    for chunk_df in chunks:\n",
    "        tmp_train = data[~data.isin(chunk_df)]\n",
    "        X_train = tmp_train.text.astype(str)\n",
    "        y = tmp_train.group.astype(str)\n",
    "\n",
    "        y_output = chunk_df.group\n",
    "        \n",
    "        # initialize the vectorizer\n",
    "        vectorizer = TfidfVectorizer()\n",
    "        # create the dictionary\n",
    "        vectorizer.fit(X_train)\n",
    "        # `fit` builds the vocabulary\n",
    "        # transform your data into the BOW array\n",
    "        X = vectorizer.transform(X_train).toarray()\n",
    "        words_list = list(vectorizer.get_feature_names())\n",
    "    \n",
    "        # fit knn\n",
    "        neigh = KNeighborsClassifier(n_neighbors = k)\n",
    "        neigh.fit(X, y_train)\n",
    "        \n",
    "        \n",
    "        X_val = vectorizer.transform(chunk_df.text)\n",
    "        predicted = neigh.predict(X_val)\n",
    "\n",
    "        accuracy = metrics.accuracy_score(y_output, predicted) * 100\n",
    "        accuracy_list.append(accuracy)\n",
    "       \n",
    "        print('Accuracy:', accuracy)\n",
    "    print('Average accuracy:', np.mean(accuracy_list))\n",
    "    print('------')"
   ]
  },
  {
   "cell_type": "code",
   "execution_count": 32,
   "metadata": {},
   "outputs": [
    {
     "name": "stdout",
     "output_type": "stream",
     "text": [
      "Number of chunks: 5\n",
      "k: 1\n"
     ]
    },
    {
     "name": "stderr",
     "output_type": "stream",
     "text": [
      "/Users/yasmine/anaconda3/lib/python3.6/site-packages/ipykernel_launcher.py:27: DataConversionWarning: A column-vector y was passed when a 1d array was expected. Please change the shape of y to (n_samples, ), for example using ravel().\n"
     ]
    },
    {
     "name": "stdout",
     "output_type": "stream",
     "text": [
      "Accuracy: 72.136068034\n",
      "Accuracy: 71.2356178089\n",
      "Accuracy: 70.6353176588\n",
      "Accuracy: 71.7858929465\n",
      "Accuracy: 70.4852426213\n",
      "Average accuracy: 71.2556278139\n",
      "------\n",
      "Time elapsed: 398.2660291194916\n",
      "Number of chunks: 5\n",
      "k: 2\n",
      "Accuracy: 68.7843921961\n",
      "Accuracy: 67.6338169085\n",
      "Accuracy: 67.1835917959\n",
      "Accuracy: 69.4847423712\n",
      "Accuracy: 64.9324662331\n",
      "Average accuracy: 67.603801901\n",
      "------\n",
      "Time elapsed: 383.16657519340515\n",
      "Number of chunks: 5\n",
      "k: 3\n",
      "Accuracy: 68.9344672336\n",
      "Accuracy: 67.4337168584\n",
      "Accuracy: 66.4332166083\n",
      "Accuracy: 69.9849924962\n",
      "Accuracy: 65.5327663832\n",
      "Average accuracy: 67.663831916\n",
      "------\n",
      "Time elapsed: 389.0017430782318\n",
      "Number of chunks: 5\n",
      "k: 4\n",
      "Accuracy: 68.2341170585\n",
      "Accuracy: 66.9334667334\n",
      "Accuracy: 65.2826413207\n",
      "Accuracy: 68.384192096\n",
      "Accuracy: 64.4822411206\n",
      "Average accuracy: 66.6633316658\n",
      "------\n",
      "Time elapsed: 381.80662298202515\n",
      "Number of chunks: 5\n",
      "k: 5\n",
      "Accuracy: 67.3336668334\n",
      "Accuracy: 66.7333666833\n",
      "Accuracy: 65.6828414207\n",
      "Accuracy: 68.4842421211\n",
      "Accuracy: 64.5822911456\n",
      "Average accuracy: 66.5632816408\n",
      "------\n",
      "Time elapsed: 389.20574021339417\n",
      "Number of chunks: 5\n",
      "k: 6\n",
      "Accuracy: 66.7833916958\n",
      "Accuracy: 66.5832916458\n",
      "Accuracy: 65.6328164082\n",
      "Accuracy: 67.1335667834\n",
      "Accuracy: 65.1325662831\n",
      "Average accuracy: 66.2531265633\n",
      "------\n",
      "Time elapsed: 383.60361886024475\n",
      "Number of chunks: 5\n",
      "k: 7\n",
      "Accuracy: 66.4832416208\n",
      "Accuracy: 66.8834417209\n",
      "Accuracy: 64.132066033\n",
      "Accuracy: 67.3336668334\n",
      "Accuracy: 65.1825912956\n",
      "Average accuracy: 66.0030015008\n",
      "------\n",
      "Time elapsed: 382.8220419883728\n",
      "Number of chunks: 5\n",
      "k: 8\n",
      "Accuracy: 66.5332666333\n",
      "Accuracy: 66.0830415208\n",
      "Accuracy: 63.831915958\n",
      "Accuracy: 66.2831415708\n",
      "Accuracy: 64.8324162081\n",
      "Average accuracy: 65.5127563782\n",
      "------\n",
      "Time elapsed: 434.5470998287201\n",
      "Number of chunks: 5\n",
      "k: 9\n",
      "Accuracy: 65.2326163082\n",
      "Accuracy: 65.2826413207\n",
      "Accuracy: 63.3816908454\n",
      "Accuracy: 65.8829414707\n",
      "Accuracy: 62.6813406703\n",
      "Average accuracy: 64.4922461231\n",
      "------\n",
      "Time elapsed: 420.3932981491089\n",
      "Number of chunks: 5\n",
      "k: 10\n",
      "Accuracy: 65.0325162581\n",
      "Accuracy: 65.2826413207\n",
      "Accuracy: 63.0315157579\n",
      "Accuracy: 65.5327663832\n",
      "Accuracy: 62.6813406703\n",
      "Average accuracy: 64.312156078\n",
      "------\n",
      "Time elapsed: 432.011696100235\n"
     ]
    }
   ],
   "source": [
    "for t in param:\n",
    "    start = time.time()\n",
    "    tfidf_cross_val(train, 5, t)\n",
    "    end = time.time()\n",
    "    print(\"Time elapsed:\", end - start)"
   ]
  },
  {
   "cell_type": "markdown",
   "metadata": {},
   "source": [
    "4) Third, repeat the above using Naive Bayes. Let's stay with the BOW representation where we have word counts (unless you explicitly requested something else, you already have it from the first k-NN). Here you should 􏰀nd the optimal smoothing parameter."
   ]
  },
  {
   "cell_type": "code",
   "execution_count": 41,
   "metadata": {
    "collapsed": true
   },
   "outputs": [],
   "source": [
    "def nb_cross_val(data, k_chunks, k):\n",
    "    print('Number of chunks:', k_chunks)\n",
    "    print('alpha:', k)\n",
    "    \n",
    "    chunks = split_data_frame(data, k_chunks)\n",
    "    accuracy_list = []\n",
    "    for chunk_df in chunks:\n",
    "        tmp_train = data[~data.isin(chunk_df)]\n",
    "        X_train = tmp_train.text.astype(str)\n",
    "        y = tmp_train.group.astype(str)\n",
    "\n",
    "        y_output = chunk_df.group\n",
    "        \n",
    "        # initialize the vectorizer\n",
    "        vectorizer = CountVectorizer(min_df=0)\n",
    "        # create the dictionary\n",
    "        vectorizer.fit(X_train)\n",
    "        # `fit` builds the vocabulary\n",
    "        # transform your data into the BOW array\n",
    "        X = vectorizer.transform(X_train).toarray()\n",
    "        words_list = list(vectorizer.get_feature_names())\n",
    "    \n",
    "        # fit nb\n",
    "        nb = MultinomialNB(alpha = k)\n",
    "        nb.fit(X, y_train)\n",
    "        \n",
    "        \n",
    "        X_val = vectorizer.transform(chunk_df.text)\n",
    "        predicted = nb.predict(X_val)\n",
    "\n",
    "        accuracy = metrics.accuracy_score(y_output, predicted) * 100\n",
    "        accuracy_list.append(accuracy)\n",
    "       \n",
    "        print('Accuracy:', accuracy)\n",
    "    print('Average accuracy:', np.mean(accuracy_list))\n",
    "    print('------')"
   ]
  },
  {
   "cell_type": "code",
   "execution_count": 45,
   "metadata": {},
   "outputs": [
    {
     "name": "stdout",
     "output_type": "stream",
     "text": [
      "Number of chunks: 5\n",
      "alpha: 1\n"
     ]
    },
    {
     "name": "stderr",
     "output_type": "stream",
     "text": [
      "/Users/yasmine/anaconda3/lib/python3.6/site-packages/sklearn/utils/validation.py:578: DataConversionWarning: A column-vector y was passed when a 1d array was expected. Please change the shape of y to (n_samples, ), for example using ravel().\n",
      "  y = column_or_1d(y, warn=True)\n"
     ]
    },
    {
     "name": "stdout",
     "output_type": "stream",
     "text": [
      "Accuracy: 67.047891351\n",
      "Accuracy: 63.9027877055\n",
      "Accuracy: 68.1915654039\n",
      "Accuracy: 66.6904932094\n",
      "Accuracy: 64.0457469621\n",
      "Average accuracy: 65.9756969264\n",
      "------\n",
      "Time elapsed: 104.5196008682251\n",
      "Number of chunks: 5\n",
      "alpha: 2\n",
      "Accuracy: 52.3230879199\n",
      "Accuracy: 48.820586133\n",
      "Accuracy: 55.5396711937\n",
      "Accuracy: 54.896354539\n",
      "Accuracy: 49.3924231594\n",
      "Average accuracy: 52.194424589\n",
      "------\n",
      "Time elapsed: 104.20132398605347\n",
      "Number of chunks: 5\n",
      "alpha: 3\n",
      "Accuracy: 43.1736954968\n",
      "Accuracy: 40.2430307362\n",
      "Accuracy: 48.3917083631\n",
      "Accuracy: 46.5332380272\n",
      "Accuracy: 41.815582559\n",
      "Average accuracy: 44.0314510365\n",
      "------\n",
      "Time elapsed: 102.9996452331543\n",
      "Number of chunks: 5\n",
      "alpha: 4\n",
      "Accuracy: 37.2408863474\n",
      "Accuracy: 34.5961401001\n",
      "Accuracy: 43.1736954968\n",
      "Accuracy: 40.1000714796\n",
      "Accuracy: 36.8834882059\n",
      "Average accuracy: 38.3988563259\n",
      "------\n",
      "Time elapsed: 103.53547286987305\n",
      "Number of chunks: 5\n",
      "alpha: 5\n",
      "Accuracy: 33.5239456755\n",
      "Accuracy: 31.6654753395\n",
      "Accuracy: 40.1000714796\n",
      "Accuracy: 35.9542530379\n",
      "Accuracy: 32.6661901358\n",
      "Average accuracy: 34.7819871337\n",
      "------\n",
      "Time elapsed: 106.79887294769287\n",
      "Number of chunks: 5\n",
      "alpha: 6\n",
      "Accuracy: 30.9506790565\n",
      "Accuracy: 29.0922087205\n",
      "Accuracy: 37.4553252323\n",
      "Accuracy: 33.6669049321\n",
      "Accuracy: 30.5932809149\n",
      "Average accuracy: 32.3516797713\n",
      "------\n",
      "Time elapsed: 111.79115295410156\n",
      "Number of chunks: 5\n",
      "alpha: 7\n",
      "Accuracy: 29.3781272337\n",
      "Accuracy: 27.0907791279\n",
      "Accuracy: 34.2387419585\n",
      "Accuracy: 31.0936383131\n",
      "Accuracy: 29.0922087205\n",
      "Average accuracy: 30.1786990708\n",
      "------\n",
      "Time elapsed: 102.84812116622925\n",
      "Number of chunks: 5\n",
      "alpha: 8\n",
      "Accuracy: 27.1622587563\n",
      "Accuracy: 25.3752680486\n",
      "Accuracy: 32.8806290207\n",
      "Accuracy: 28.9492494639\n",
      "Accuracy: 27.5911365261\n",
      "Average accuracy: 28.3917083631\n",
      "------\n",
      "Time elapsed: 106.15774393081665\n",
      "Number of chunks: 5\n",
      "alpha: 9\n",
      "Accuracy: 25.1608291637\n",
      "Accuracy: 23.8741958542\n",
      "Accuracy: 31.1651179414\n",
      "Accuracy: 27.0192994996\n",
      "Accuracy: 26.5189421015\n",
      "Average accuracy: 26.7476769121\n",
      "------\n",
      "Time elapsed: 105.95693278312683\n",
      "Number of chunks: 5\n",
      "alpha: 10\n",
      "Accuracy: 24.0886347391\n",
      "Accuracy: 23.1593995711\n",
      "Accuracy: 29.0922087205\n",
      "Accuracy: 26.0185847034\n",
      "Accuracy: 25.9471050751\n",
      "Average accuracy: 25.6611865618\n",
      "------\n",
      "Time elapsed: 100.29582715034485\n"
     ]
    }
   ],
   "source": [
    "for t in param:\n",
    "    start = time.time()\n",
    "    nb_cross_val(train, 5, t)\n",
    "    end = time.time()\n",
    "    print(\"Time elapsed:\", end - start)"
   ]
  },
  {
   "cell_type": "markdown",
   "metadata": {},
   "source": [
    "5) Discuss the findings. Which model showed the best behaviour? Which one has the fastest speed? Decide which one is your best model for the last step:"
   ]
  },
  {
   "cell_type": "markdown",
   "metadata": {
    "collapsed": true
   },
   "source": [
    "The model that showed the best behavior was **TF-IDF kNN**, with an k of k=1. The best average accuracy score we received with this model while implementing k-fold CV with 5 k-chunks was **71.26**. The model that has the fastest speed from our performance was **naive bayes** (average speed = ~103 seconds). For the last step, we will use the former model.\n",
    "\n",
    "(Disclaimer: for the speed, I had to lower the training set size for the naive bayes model because I was running out of time for this final. The previous 2 took over an hour each to run, as shown in the times above, so I couldn't wait another hour to finish this by the deadline. My best guess is that naive bayes would still be the fastest model, just by looking at previous problem sets)."
   ]
  },
  {
   "cell_type": "markdown",
   "metadata": {},
   "source": [
    "6) Finally, analyze you model's performance on the testing data. load your testing data and compute the final accuracy."
   ]
  },
  {
   "cell_type": "code",
   "execution_count": 48,
   "metadata": {
    "collapsed": true
   },
   "outputs": [],
   "source": [
    "test = pd.read_csv(\"test.csv\")\n",
    "test.text = test.text.astype(str)\n",
    "test.group = test.group.astype(str)"
   ]
  },
  {
   "cell_type": "code",
   "execution_count": 50,
   "metadata": {},
   "outputs": [
    {
     "name": "stdout",
     "output_type": "stream",
     "text": [
      "accuracy 41.5341534153\n"
     ]
    }
   ],
   "source": [
    "X_train = train.text\n",
    "y_train = train.group\n",
    "\n",
    "# initialize the vectorizer\n",
    "vectorizer = CountVectorizer(min_df=0)\n",
    "# create the dictionary\n",
    "vectorizer.fit(X_train)\n",
    "# `fit` builds the vocabulary\n",
    "# transform your data into the BOW array\n",
    "X = vectorizer.transform(X_train).toarray()\n",
    "\n",
    "# fit knn\n",
    "neigh = KNeighborsClassifier(n_neighbors = 1, algorithm = 'brute')\n",
    "neigh.fit(X, y_train)\n",
    "\n",
    "X_test = vectorizer.transform(test.text)\n",
    "y_test = test.group\n",
    "predicted = neigh.predict(X_test)\n",
    "\n",
    "\n",
    "accuracy = metrics.accuracy_score(y_test, predicted) * 100\n",
    "print('accuracy', accuracy)"
   ]
  },
  {
   "cell_type": "markdown",
   "metadata": {},
   "source": [
    "Sadly, even though we got a good accuracy like explained above, the accuracy for the final model was really bad. :( With more time, I could play around with this and see what else I could get."
   ]
  },
  {
   "cell_type": "markdown",
   "metadata": {},
   "source": [
    "7) Besides the final accuracy, compare some of the misclassified cases. What do you think what and why did the model get these wrong?\n",
    "\n",
    "Note: I mean some sort of informal list of some of the misclassified cases, not a comprehensive analysis. Confusion matrix may not work well as we have 20 different groups here."
   ]
  },
  {
   "cell_type": "code",
   "execution_count": 56,
   "metadata": {},
   "outputs": [
    {
     "data": {
      "text/html": [
       "<div>\n",
       "<style>\n",
       "    .dataframe thead tr:only-child th {\n",
       "        text-align: right;\n",
       "    }\n",
       "\n",
       "    .dataframe thead th {\n",
       "        text-align: left;\n",
       "    }\n",
       "\n",
       "    .dataframe tbody tr th {\n",
       "        vertical-align: top;\n",
       "    }\n",
       "</style>\n",
       "<table border=\"1\" class=\"dataframe\">\n",
       "  <thead>\n",
       "    <tr style=\"text-align: right;\">\n",
       "      <th></th>\n",
       "      <th>0</th>\n",
       "    </tr>\n",
       "  </thead>\n",
       "  <tbody>\n",
       "    <tr>\n",
       "      <th>304</th>\n",
       "      <td>alt.atheism</td>\n",
       "    </tr>\n",
       "    <tr>\n",
       "      <th>342</th>\n",
       "      <td>comp.graphics</td>\n",
       "    </tr>\n",
       "    <tr>\n",
       "      <th>304</th>\n",
       "      <td>comp.os.ms-windows.misc</td>\n",
       "    </tr>\n",
       "    <tr>\n",
       "      <th>330</th>\n",
       "      <td>comp.sys.ibm.pc.hardware</td>\n",
       "    </tr>\n",
       "    <tr>\n",
       "      <th>319</th>\n",
       "      <td>comp.sys.mac.hardware</td>\n",
       "    </tr>\n",
       "    <tr>\n",
       "      <th>310</th>\n",
       "      <td>comp.windows.x</td>\n",
       "    </tr>\n",
       "    <tr>\n",
       "      <th>321</th>\n",
       "      <td>misc.forsale</td>\n",
       "    </tr>\n",
       "    <tr>\n",
       "      <th>313</th>\n",
       "      <td>rec.autos</td>\n",
       "    </tr>\n",
       "    <tr>\n",
       "      <th>291</th>\n",
       "      <td>rec.motorcycles</td>\n",
       "    </tr>\n",
       "    <tr>\n",
       "      <th>265</th>\n",
       "      <td>rec.sport.baseball</td>\n",
       "    </tr>\n",
       "    <tr>\n",
       "      <th>229</th>\n",
       "      <td>rec.sport.hockey</td>\n",
       "    </tr>\n",
       "    <tr>\n",
       "      <th>217</th>\n",
       "      <td>sci.crypt</td>\n",
       "    </tr>\n",
       "    <tr>\n",
       "      <th>331</th>\n",
       "      <td>sci.electronics</td>\n",
       "    </tr>\n",
       "    <tr>\n",
       "      <th>285</th>\n",
       "      <td>sci.med</td>\n",
       "    </tr>\n",
       "    <tr>\n",
       "      <th>278</th>\n",
       "      <td>sci.space</td>\n",
       "    </tr>\n",
       "    <tr>\n",
       "      <th>315</th>\n",
       "      <td>soc.religion.christian</td>\n",
       "    </tr>\n",
       "    <tr>\n",
       "      <th>261</th>\n",
       "      <td>talk.politics.guns</td>\n",
       "    </tr>\n",
       "    <tr>\n",
       "      <th>225</th>\n",
       "      <td>talk.politics.mideast</td>\n",
       "    </tr>\n",
       "    <tr>\n",
       "      <th>289</th>\n",
       "      <td>talk.politics.misc</td>\n",
       "    </tr>\n",
       "    <tr>\n",
       "      <th>317</th>\n",
       "      <td>talk.religion.misc</td>\n",
       "    </tr>\n",
       "  </tbody>\n",
       "</table>\n",
       "</div>"
      ],
      "text/plain": [
       "                            0\n",
       "304               alt.atheism\n",
       "342             comp.graphics\n",
       "304   comp.os.ms-windows.misc\n",
       "330  comp.sys.ibm.pc.hardware\n",
       "319     comp.sys.mac.hardware\n",
       "310            comp.windows.x\n",
       "321              misc.forsale\n",
       "313                 rec.autos\n",
       "291           rec.motorcycles\n",
       "265        rec.sport.baseball\n",
       "229          rec.sport.hockey\n",
       "217                 sci.crypt\n",
       "331           sci.electronics\n",
       "285                   sci.med\n",
       "278                 sci.space\n",
       "315    soc.religion.christian\n",
       "261        talk.politics.guns\n",
       "225     talk.politics.mideast\n",
       "289        talk.politics.misc\n",
       "317        talk.religion.misc"
      ]
     },
     "execution_count": 56,
     "metadata": {},
     "output_type": "execute_result"
    }
   ],
   "source": [
    "misc = np.array(y_test)[p.where(y_test != predicted)]\n",
    "unique, counts = np.unique(misc, return_counts = True)\n",
    "pd.DataFrame(unique, counts)"
   ]
  },
  {
   "cell_type": "markdown",
   "metadata": {},
   "source": [
    "The most misclassified group was **comp.graphics** from the model and data we tested on. This may be because there is not a lot of cases where this group appears in the data, or because of this there is not a lot for the model to use to train data to be predicted correctly to this group. Perhaps some of the training data for this group overlapped a lot with or were similar to other groups (perhaps other groups in the same *'comp'* prefix?)"
   ]
  }
 ],
 "metadata": {
  "kernelspec": {
   "display_name": "Python 3",
   "language": "python",
   "name": "python3"
  },
  "language_info": {
   "codemirror_mode": {
    "name": "ipython",
    "version": 3
   },
   "file_extension": ".py",
   "mimetype": "text/x-python",
   "name": "python",
   "nbconvert_exporter": "python",
   "pygments_lexer": "ipython3",
   "version": "3.7.6"
  }
 },
 "nbformat": 4,
 "nbformat_minor": 2
}
