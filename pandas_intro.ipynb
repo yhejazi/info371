{
 "cells": [
  {
   "cell_type": "markdown",
   "metadata": {
    "ein.tags": "worksheet-0",
    "slideshow": {
     "slide_type": "-"
    }
   },
   "source": [
    "# Pandas Intro\n"
   ]
  },
  {
   "cell_type": "code",
   "execution_count": 1,
   "metadata": {
    "autoscroll": false,
    "ein.tags": "worksheet-0",
    "slideshow": {
     "slide_type": "-"
    }
   },
   "outputs": [
    {
     "name": "stdout",
     "output_type": "stream",
     "text": [
      "numpy version 1.13.3\n",
      "pandas version 0.20.3\n"
     ]
    }
   ],
   "source": [
    "import numpy as np\n",
    "print(\"numpy version\", np.__version__)\n",
    "import pandas as pd\n",
    "print(\"pandas version\", pd.__version__)"
   ]
  },
  {
   "cell_type": "markdown",
   "metadata": {
    "ein.tags": "worksheet-0",
    "slideshow": {
     "slide_type": "-"
    }
   },
   "source": [
    "## Fundamental Classes"
   ]
  },
  {
   "cell_type": "markdown",
   "metadata": {
    "ein.tags": "worksheet-0",
    "slideshow": {
     "slide_type": "-"
    }
   },
   "source": [
    "### Series\n",
    "\n",
    "Series is something like a variable in data frame"
   ]
  },
  {
   "cell_type": "code",
   "execution_count": 2,
   "metadata": {
    "autoscroll": false,
    "ein.tags": "worksheet-0",
    "slideshow": {
     "slide_type": "-"
    }
   },
   "outputs": [
    {
     "name": "stdout",
     "output_type": "stream",
     "text": [
      "0    1\n",
      "1    2\n",
      "2    5\n",
      "3    6\n",
      "dtype: int64\n",
      "[1 2 5 6]\n",
      "RangeIndex(start=0, stop=4, step=1)\n"
     ]
    }
   ],
   "source": [
    "s = pd.Series([1,2,5,6])\n",
    "print(s)\n",
    "print(s.values)\n",
    "print(s.index)"
   ]
  },
  {
   "cell_type": "code",
   "execution_count": 3,
   "metadata": {
    "autoscroll": false,
    "ein.tags": "worksheet-0",
    "slideshow": {
     "slide_type": "-"
    }
   },
   "outputs": [
    {
     "name": "stdout",
     "output_type": "stream",
     "text": [
      "ca    38\n",
      "tx    26\n",
      "ny    19\n",
      "fl    19\n",
      "dtype: int64 \n",
      "\n",
      "TX population:\n",
      " 26 \n",
      "\n",
      "19000000 \n",
      "\n"
     ]
    }
   ],
   "source": [
    "pop = pd.Series( [ 38, 26, 19, 19], index = ['ca', 'tx', 'ny', 'fl'])  # population, in millions\n",
    "print(pop, '\\n')\n",
    "print('TX population:\\n', pop['tx'], '\\n')\n",
    "print(pop['ny']*1000000, '\\n')"
   ]
  },
  {
   "cell_type": "markdown",
   "metadata": {
    "ein.tags": "worksheet-0",
    "slideshow": {
     "slide_type": "-"
    }
   },
   "source": [
    "### DataFrame\n",
    "\n",
    "The central data structure in pandas, rectangular data\n",
    "rows: observations, columns: variables\n",
    "\n",
    "variables are stored as Series."
   ]
  },
  {
   "cell_type": "code",
   "execution_count": 4,
   "metadata": {
    "autoscroll": false,
    "ein.tags": "worksheet-0",
    "slideshow": {
     "slide_type": "-"
    }
   },
   "outputs": [
    {
     "name": "stdout",
     "output_type": "stream",
     "text": [
      "population:\n",
      "    ca  md  tx\n",
      "0  35   5  23\n",
      "1  37   5  24\n",
      "2  38   6  26 \n",
      "\n",
      "population:\n",
      "       ca  md  tx\n",
      "2010  35   5  23\n",
      "2012  37   5  24\n",
      "2014  38   6  26 \n",
      "\n"
     ]
    }
   ],
   "source": [
    "## create as a dict of lists (or series):\n",
    "df = {'ca': [35, 37, 38], 'tx': [23, 24, 26], 'md': [5,5,6]}\n",
    "pop = pd.DataFrame(df)\n",
    "print('population:\\n', pop, '\\n')\n",
    "pop = pd.DataFrame(df, index = [2010,2012,2014])\n",
    "print('population:\\n', pop, '\\n')"
   ]
  },
  {
   "cell_type": "code",
   "execution_count": 5,
   "metadata": {
    "autoscroll": false,
    "ein.tags": "worksheet-0",
    "scrolled": true,
    "slideshow": {
     "slide_type": "-"
    }
   },
   "outputs": [
    {
     "ename": "FileNotFoundError",
     "evalue": "[Errno 2] No such file or directory: '../data/titanic.csv.bz2'",
     "output_type": "error",
     "traceback": [
      "\u001b[0;31m---------------------------------------------------------------------------\u001b[0m",
      "\u001b[0;31mFileNotFoundError\u001b[0m                         Traceback (most recent call last)",
      "\u001b[0;32m<ipython-input-5-1c81851c8555>\u001b[0m in \u001b[0;36m<module>\u001b[0;34m()\u001b[0m\n\u001b[1;32m      1\u001b[0m \u001b[0;31m## read from file\u001b[0m\u001b[0;34m\u001b[0m\u001b[0;34m\u001b[0m\u001b[0m\n\u001b[0;32m----> 2\u001b[0;31m \u001b[0mtitanic\u001b[0m \u001b[0;34m=\u001b[0m \u001b[0mpd\u001b[0m\u001b[0;34m.\u001b[0m\u001b[0mread_csv\u001b[0m\u001b[0;34m(\u001b[0m\u001b[0;34m\"../data/titanic.csv.bz2\"\u001b[0m\u001b[0;34m)\u001b[0m  \u001b[0;31m# note: automatic decompression\u001b[0m\u001b[0;34m\u001b[0m\u001b[0m\n\u001b[0m\u001b[1;32m      3\u001b[0m \u001b[0mprint\u001b[0m\u001b[0;34m(\u001b[0m\u001b[0;34m\"First 3 obs:\\n\"\u001b[0m\u001b[0;34m,\u001b[0m \u001b[0mtitanic\u001b[0m\u001b[0;34m.\u001b[0m\u001b[0mhead\u001b[0m\u001b[0;34m(\u001b[0m\u001b[0;36m3\u001b[0m\u001b[0;34m)\u001b[0m\u001b[0;34m,\u001b[0m \u001b[0;34m'\\n'\u001b[0m\u001b[0;34m)\u001b[0m\u001b[0;34m\u001b[0m\u001b[0m\n\u001b[1;32m      4\u001b[0m \u001b[0mprint\u001b[0m\u001b[0;34m(\u001b[0m\u001b[0;34m'Last 3 obs:\\n'\u001b[0m\u001b[0;34m,\u001b[0m \u001b[0mtitanic\u001b[0m\u001b[0;34m.\u001b[0m\u001b[0mtail\u001b[0m\u001b[0;34m(\u001b[0m\u001b[0;36m3\u001b[0m\u001b[0;34m)\u001b[0m\u001b[0;34m,\u001b[0m \u001b[0;34m'\\n'\u001b[0m\u001b[0;34m)\u001b[0m\u001b[0;34m\u001b[0m\u001b[0m\n",
      "\u001b[0;32m~/anaconda3/lib/python3.6/site-packages/pandas/io/parsers.py\u001b[0m in \u001b[0;36mparser_f\u001b[0;34m(filepath_or_buffer, sep, delimiter, header, names, index_col, usecols, squeeze, prefix, mangle_dupe_cols, dtype, engine, converters, true_values, false_values, skipinitialspace, skiprows, nrows, na_values, keep_default_na, na_filter, verbose, skip_blank_lines, parse_dates, infer_datetime_format, keep_date_col, date_parser, dayfirst, iterator, chunksize, compression, thousands, decimal, lineterminator, quotechar, quoting, escapechar, comment, encoding, dialect, tupleize_cols, error_bad_lines, warn_bad_lines, skipfooter, skip_footer, doublequote, delim_whitespace, as_recarray, compact_ints, use_unsigned, low_memory, buffer_lines, memory_map, float_precision)\u001b[0m\n\u001b[1;32m    653\u001b[0m                     skip_blank_lines=skip_blank_lines)\n\u001b[1;32m    654\u001b[0m \u001b[0;34m\u001b[0m\u001b[0m\n\u001b[0;32m--> 655\u001b[0;31m         \u001b[0;32mreturn\u001b[0m \u001b[0m_read\u001b[0m\u001b[0;34m(\u001b[0m\u001b[0mfilepath_or_buffer\u001b[0m\u001b[0;34m,\u001b[0m \u001b[0mkwds\u001b[0m\u001b[0;34m)\u001b[0m\u001b[0;34m\u001b[0m\u001b[0m\n\u001b[0m\u001b[1;32m    656\u001b[0m \u001b[0;34m\u001b[0m\u001b[0m\n\u001b[1;32m    657\u001b[0m     \u001b[0mparser_f\u001b[0m\u001b[0;34m.\u001b[0m\u001b[0m__name__\u001b[0m \u001b[0;34m=\u001b[0m \u001b[0mname\u001b[0m\u001b[0;34m\u001b[0m\u001b[0m\n",
      "\u001b[0;32m~/anaconda3/lib/python3.6/site-packages/pandas/io/parsers.py\u001b[0m in \u001b[0;36m_read\u001b[0;34m(filepath_or_buffer, kwds)\u001b[0m\n\u001b[1;32m    403\u001b[0m \u001b[0;34m\u001b[0m\u001b[0m\n\u001b[1;32m    404\u001b[0m     \u001b[0;31m# Create the parser.\u001b[0m\u001b[0;34m\u001b[0m\u001b[0;34m\u001b[0m\u001b[0m\n\u001b[0;32m--> 405\u001b[0;31m     \u001b[0mparser\u001b[0m \u001b[0;34m=\u001b[0m \u001b[0mTextFileReader\u001b[0m\u001b[0;34m(\u001b[0m\u001b[0mfilepath_or_buffer\u001b[0m\u001b[0;34m,\u001b[0m \u001b[0;34m**\u001b[0m\u001b[0mkwds\u001b[0m\u001b[0;34m)\u001b[0m\u001b[0;34m\u001b[0m\u001b[0m\n\u001b[0m\u001b[1;32m    406\u001b[0m \u001b[0;34m\u001b[0m\u001b[0m\n\u001b[1;32m    407\u001b[0m     \u001b[0;32mif\u001b[0m \u001b[0mchunksize\u001b[0m \u001b[0;32mor\u001b[0m \u001b[0miterator\u001b[0m\u001b[0;34m:\u001b[0m\u001b[0;34m\u001b[0m\u001b[0m\n",
      "\u001b[0;32m~/anaconda3/lib/python3.6/site-packages/pandas/io/parsers.py\u001b[0m in \u001b[0;36m__init__\u001b[0;34m(self, f, engine, **kwds)\u001b[0m\n\u001b[1;32m    762\u001b[0m             \u001b[0mself\u001b[0m\u001b[0;34m.\u001b[0m\u001b[0moptions\u001b[0m\u001b[0;34m[\u001b[0m\u001b[0;34m'has_index_names'\u001b[0m\u001b[0;34m]\u001b[0m \u001b[0;34m=\u001b[0m \u001b[0mkwds\u001b[0m\u001b[0;34m[\u001b[0m\u001b[0;34m'has_index_names'\u001b[0m\u001b[0;34m]\u001b[0m\u001b[0;34m\u001b[0m\u001b[0m\n\u001b[1;32m    763\u001b[0m \u001b[0;34m\u001b[0m\u001b[0m\n\u001b[0;32m--> 764\u001b[0;31m         \u001b[0mself\u001b[0m\u001b[0;34m.\u001b[0m\u001b[0m_make_engine\u001b[0m\u001b[0;34m(\u001b[0m\u001b[0mself\u001b[0m\u001b[0;34m.\u001b[0m\u001b[0mengine\u001b[0m\u001b[0;34m)\u001b[0m\u001b[0;34m\u001b[0m\u001b[0m\n\u001b[0m\u001b[1;32m    765\u001b[0m \u001b[0;34m\u001b[0m\u001b[0m\n\u001b[1;32m    766\u001b[0m     \u001b[0;32mdef\u001b[0m \u001b[0mclose\u001b[0m\u001b[0;34m(\u001b[0m\u001b[0mself\u001b[0m\u001b[0;34m)\u001b[0m\u001b[0;34m:\u001b[0m\u001b[0;34m\u001b[0m\u001b[0m\n",
      "\u001b[0;32m~/anaconda3/lib/python3.6/site-packages/pandas/io/parsers.py\u001b[0m in \u001b[0;36m_make_engine\u001b[0;34m(self, engine)\u001b[0m\n\u001b[1;32m    983\u001b[0m     \u001b[0;32mdef\u001b[0m \u001b[0m_make_engine\u001b[0m\u001b[0;34m(\u001b[0m\u001b[0mself\u001b[0m\u001b[0;34m,\u001b[0m \u001b[0mengine\u001b[0m\u001b[0;34m=\u001b[0m\u001b[0;34m'c'\u001b[0m\u001b[0;34m)\u001b[0m\u001b[0;34m:\u001b[0m\u001b[0;34m\u001b[0m\u001b[0m\n\u001b[1;32m    984\u001b[0m         \u001b[0;32mif\u001b[0m \u001b[0mengine\u001b[0m \u001b[0;34m==\u001b[0m \u001b[0;34m'c'\u001b[0m\u001b[0;34m:\u001b[0m\u001b[0;34m\u001b[0m\u001b[0m\n\u001b[0;32m--> 985\u001b[0;31m             \u001b[0mself\u001b[0m\u001b[0;34m.\u001b[0m\u001b[0m_engine\u001b[0m \u001b[0;34m=\u001b[0m \u001b[0mCParserWrapper\u001b[0m\u001b[0;34m(\u001b[0m\u001b[0mself\u001b[0m\u001b[0;34m.\u001b[0m\u001b[0mf\u001b[0m\u001b[0;34m,\u001b[0m \u001b[0;34m**\u001b[0m\u001b[0mself\u001b[0m\u001b[0;34m.\u001b[0m\u001b[0moptions\u001b[0m\u001b[0;34m)\u001b[0m\u001b[0;34m\u001b[0m\u001b[0m\n\u001b[0m\u001b[1;32m    986\u001b[0m         \u001b[0;32melse\u001b[0m\u001b[0;34m:\u001b[0m\u001b[0;34m\u001b[0m\u001b[0m\n\u001b[1;32m    987\u001b[0m             \u001b[0;32mif\u001b[0m \u001b[0mengine\u001b[0m \u001b[0;34m==\u001b[0m \u001b[0;34m'python'\u001b[0m\u001b[0;34m:\u001b[0m\u001b[0;34m\u001b[0m\u001b[0m\n",
      "\u001b[0;32m~/anaconda3/lib/python3.6/site-packages/pandas/io/parsers.py\u001b[0m in \u001b[0;36m__init__\u001b[0;34m(self, src, **kwds)\u001b[0m\n\u001b[1;32m   1603\u001b[0m         \u001b[0mkwds\u001b[0m\u001b[0;34m[\u001b[0m\u001b[0;34m'allow_leading_cols'\u001b[0m\u001b[0;34m]\u001b[0m \u001b[0;34m=\u001b[0m \u001b[0mself\u001b[0m\u001b[0;34m.\u001b[0m\u001b[0mindex_col\u001b[0m \u001b[0;32mis\u001b[0m \u001b[0;32mnot\u001b[0m \u001b[0;32mFalse\u001b[0m\u001b[0;34m\u001b[0m\u001b[0m\n\u001b[1;32m   1604\u001b[0m \u001b[0;34m\u001b[0m\u001b[0m\n\u001b[0;32m-> 1605\u001b[0;31m         \u001b[0mself\u001b[0m\u001b[0;34m.\u001b[0m\u001b[0m_reader\u001b[0m \u001b[0;34m=\u001b[0m \u001b[0mparsers\u001b[0m\u001b[0;34m.\u001b[0m\u001b[0mTextReader\u001b[0m\u001b[0;34m(\u001b[0m\u001b[0msrc\u001b[0m\u001b[0;34m,\u001b[0m \u001b[0;34m**\u001b[0m\u001b[0mkwds\u001b[0m\u001b[0;34m)\u001b[0m\u001b[0;34m\u001b[0m\u001b[0m\n\u001b[0m\u001b[1;32m   1606\u001b[0m \u001b[0;34m\u001b[0m\u001b[0m\n\u001b[1;32m   1607\u001b[0m         \u001b[0;31m# XXX\u001b[0m\u001b[0;34m\u001b[0m\u001b[0;34m\u001b[0m\u001b[0m\n",
      "\u001b[0;32mpandas/_libs/parsers.pyx\u001b[0m in \u001b[0;36mpandas._libs.parsers.TextReader.__cinit__ (pandas/_libs/parsers.c:4209)\u001b[0;34m()\u001b[0m\n",
      "\u001b[0;32mpandas/_libs/parsers.pyx\u001b[0m in \u001b[0;36mpandas._libs.parsers.TextReader._setup_parser_source (pandas/_libs/parsers.c:7763)\u001b[0;34m()\u001b[0m\n",
      "\u001b[0;32m~/anaconda3/lib/python3.6/bz2.py\u001b[0m in \u001b[0;36m__init__\u001b[0;34m(self, filename, mode, buffering, compresslevel)\u001b[0m\n\u001b[1;32m     94\u001b[0m \u001b[0;34m\u001b[0m\u001b[0m\n\u001b[1;32m     95\u001b[0m         \u001b[0;32mif\u001b[0m \u001b[0misinstance\u001b[0m\u001b[0;34m(\u001b[0m\u001b[0mfilename\u001b[0m\u001b[0;34m,\u001b[0m \u001b[0;34m(\u001b[0m\u001b[0mstr\u001b[0m\u001b[0;34m,\u001b[0m \u001b[0mbytes\u001b[0m\u001b[0;34m,\u001b[0m \u001b[0mos\u001b[0m\u001b[0;34m.\u001b[0m\u001b[0mPathLike\u001b[0m\u001b[0;34m)\u001b[0m\u001b[0;34m)\u001b[0m\u001b[0;34m:\u001b[0m\u001b[0;34m\u001b[0m\u001b[0m\n\u001b[0;32m---> 96\u001b[0;31m             \u001b[0mself\u001b[0m\u001b[0;34m.\u001b[0m\u001b[0m_fp\u001b[0m \u001b[0;34m=\u001b[0m \u001b[0m_builtin_open\u001b[0m\u001b[0;34m(\u001b[0m\u001b[0mfilename\u001b[0m\u001b[0;34m,\u001b[0m \u001b[0mmode\u001b[0m\u001b[0;34m)\u001b[0m\u001b[0;34m\u001b[0m\u001b[0m\n\u001b[0m\u001b[1;32m     97\u001b[0m             \u001b[0mself\u001b[0m\u001b[0;34m.\u001b[0m\u001b[0m_closefp\u001b[0m \u001b[0;34m=\u001b[0m \u001b[0;32mTrue\u001b[0m\u001b[0;34m\u001b[0m\u001b[0m\n\u001b[1;32m     98\u001b[0m             \u001b[0mself\u001b[0m\u001b[0;34m.\u001b[0m\u001b[0m_mode\u001b[0m \u001b[0;34m=\u001b[0m \u001b[0mmode_code\u001b[0m\u001b[0;34m\u001b[0m\u001b[0m\n",
      "\u001b[0;31mFileNotFoundError\u001b[0m: [Errno 2] No such file or directory: '../data/titanic.csv.bz2'"
     ]
    }
   ],
   "source": [
    "## read from file\n",
    "titanic = pd.read_csv(\"../data/titanic.csv.bz2\")  # note: automatic decompression\n",
    "print(\"First 3 obs:\\n\", titanic.head(3), '\\n')\n",
    "print('Last 3 obs:\\n', titanic.tail(3), '\\n')"
   ]
  },
  {
   "cell_type": "markdown",
   "metadata": {
    "ein.tags": "worksheet-0",
    "slideshow": {
     "slide_type": "-"
    }
   },
   "source": [
    "## Indexing dataframes"
   ]
  },
  {
   "cell_type": "code",
   "execution_count": null,
   "metadata": {
    "autoscroll": false,
    "ein.tags": "worksheet-0",
    "slideshow": {
     "slide_type": "-"
    }
   },
   "outputs": [],
   "source": [
    "## Select variables\n",
    "print( titanic[\"name\"][:5] , '\\n')  # first names, returned as series\n",
    "print( titanic.name[:5] , '\\n')  # ditto\n",
    "print(\"\\nfirst names, as data frame:\\n\", titanic[[\"name\"]][:5])\n",
    "print(\"\\nfirst name, status: always as data frame:\\n\", titanic[[\"name\", \"survived\"]][:10], '\\n')"
   ]
  },
  {
   "cell_type": "code",
   "execution_count": null,
   "metadata": {
    "autoscroll": false,
    "ein.tags": "worksheet-0",
    "slideshow": {
     "slide_type": "-"
    }
   },
   "outputs": [],
   "source": [
    "## select by logical operations\n",
    "print('Enemies of the people:\\n', titanic[titanic.pclass == 1].head(), '\\n')\n",
    "print('Male loosers:\\n',\n",
    "      titanic[np.logical_and(titanic.pclass == 3,\n",
    "                             titanic.sex == 'male')].head(),\n",
    "      '\\n')\n",
    "## note: 'and' is not ufunc "
   ]
  },
  {
   "cell_type": "code",
   "execution_count": null,
   "metadata": {
    "autoscroll": false,
    "ein.tags": "worksheet-0",
    "slideshow": {
     "slide_type": "-"
    }
   },
   "outputs": [],
   "source": [
    "##First select a subset\n",
    "young = titanic[titanic.age < 20]\n",
    "young.head()\n",
    "## Note the indices"
   ]
  },
  {
   "cell_type": "code",
   "execution_count": null,
   "metadata": {
    "autoscroll": false,
    "ein.tags": "worksheet-0",
    "slideshow": {
     "slide_type": "-"
    }
   },
   "outputs": [],
   "source": [
    "## iloc: select rows by integer row number\n",
    "print(\"4th row (as series):\\n\", young.iloc[4], '\\n')\n",
    "print('4th row (as df):\\n', young.iloc[[4]], '\\n')\n",
    "print('first 3 rows (always as df):\\n', young.iloc[:3], '\\n')\n",
    "## select rows and columns\n",
    "print('\\n4th row, 3rd and 4th element (series):\\n', young.iloc[4, [3,4]])\n",
    "print('\\n4th row, 3rd and 4th element (df):\\n', young.iloc[[4], [3,4]])"
   ]
  },
  {
   "cell_type": "code",
   "execution_count": null,
   "metadata": {
    "autoscroll": false,
    "ein.tags": "worksheet-0",
    "slideshow": {
     "slide_type": "-"
    }
   },
   "outputs": [],
   "source": [
    "## loc: select by index\n",
    "print(\"as series:\\n\", young.loc[27], '\\n')\n",
    "print(\"as DF:\\n\", young.loc[[27]], '\\n')\n",
    "print(young.loc[[11,53]], '\\n')\n",
    "## select rows and columns\n",
    "print( young.loc[[11,53], ['pclass', 'survived']], '\\n')"
   ]
  },
  {
   "cell_type": "markdown",
   "metadata": {
    "ein.tags": "worksheet-0",
    "slideshow": {
     "slide_type": "-"
    }
   },
   "source": [
    "## Exercise:\n",
    "\n",
    "1. load Titanic data\n",
    "2. count all males/females\n",
    "3. count all male/female survivors\n",
    "4. extract all toddlers (age < 4) who survived\n",
    "5. who is in the dataframe at row 1000?  Did that person survive?"
   ]
  },
  {
   "cell_type": "markdown",
   "metadata": {
    "ein.tags": "worksheet-0",
    "slideshow": {
     "slide_type": "-"
    }
   },
   "source": [
    "## Statistics and data description"
   ]
  },
  {
   "cell_type": "code",
   "execution_count": null,
   "metadata": {
    "autoscroll": false,
    "ein.tags": "worksheet-0",
    "slideshow": {
     "slide_type": "-"
    }
   },
   "outputs": [],
   "source": [
    "## compute means of data:\n",
    "means = titanic[['pclass', 'name', 'survived', 'age']].mean()\n",
    "print(\"Mean values (series):\\n\", means, '\\n')\n",
    "# note: 'name' removed\n",
    "print(\"Mean values (np array):\\n\", means.values, '\\n')\n",
    "## find unique values\n",
    "print(\"possible genders:\\n\",  titanic.sex.unique(), '\\n')\n",
    "print(\"valid values:\\n\", titanic.age.count(), '\\n')\n",
    "print(\"missings:\\n\", titanic.age.isnull().sum(), '\\n')\n"
   ]
  },
  {
   "cell_type": "code",
   "execution_count": null,
   "metadata": {
    "autoscroll": false,
    "ein.tags": "worksheet-0",
    "slideshow": {
     "slide_type": "-"
    }
   },
   "outputs": [],
   "source": [
    "## Note: rates can be computed as mean of logical values:\n",
    "print(\"percentage of middle aged (series):\\n\", np.mean(titanic[['age']] > 35))\n",
    "print(\"percentage of survivors (number):\", np.mean(titanic[['survived']] == 1).values[0])"
   ]
  },
  {
   "cell_type": "code",
   "execution_count": null,
   "metadata": {
    "autoscroll": false,
    "ein.tags": "worksheet-0",
    "slideshow": {
     "slide_type": "-"
    }
   },
   "outputs": [],
   "source": [
    "tn = titanic[['pclass', 'survived', 'age', 'fare']]\n",
    "print(tn.head(), '\\n')\n",
    "print(\"means:\\n\", tn.apply(np.mean), '\\n')\n",
    "print(\"ranges:\\n\", tn.apply(lambda x: x.max() - x.min()), '\\n')"
   ]
  },
  {
   "cell_type": "markdown",
   "metadata": {
    "ein.tags": "worksheet-0",
    "slideshow": {
     "slide_type": "-"
    }
   },
   "source": [
    "### Exercise:\n",
    "compute the survival rate by age and gender: split the data into for\n",
    "groups (young women, young men, old women, old men), and compute the\n",
    "survival rate in each of the group.  You may want to use the median\n",
    "age for the young-old boundary.\n",
    "\n",
    "Solution at the end"
   ]
  },
  {
   "cell_type": "markdown",
   "metadata": {
    "ein.tags": "worksheet-0",
    "slideshow": {
     "slide_type": "-"
    }
   },
   "source": [
    "## Data Wrangling\n",
    "\n",
    "### Database joins"
   ]
  },
  {
   "cell_type": "code",
   "execution_count": 6,
   "metadata": {
    "autoscroll": false,
    "ein.tags": "worksheet-0",
    "slideshow": {
     "slide_type": "-"
    }
   },
   "outputs": [
    {
     "name": "stdout",
     "output_type": "stream",
     "text": [
      "inner join\n",
      "    data1 key  data2\n",
      "0      0   b      1\n",
      "1      1   b      1\n",
      "2      6   b      1\n",
      "3      2   a      0\n",
      "4      4   a      0\n",
      "5      5   a      0\n",
      "outer join\n",
      "    data1 key  data2\n",
      "0    0.0   b    1.0\n",
      "1    1.0   b    1.0\n",
      "2    6.0   b    1.0\n",
      "3    2.0   a    0.0\n",
      "4    4.0   a    0.0\n",
      "5    5.0   a    0.0\n",
      "6    3.0   c    NaN\n",
      "7    NaN   d    2.0\n"
     ]
    }
   ],
   "source": [
    "df1 = pd.DataFrame({ 'key': ['b', 'b', 'a', 'c', 'a', 'a', 'b'], 'data1' : range(7) })\n",
    "df2 = pd.DataFrame({ 'key': ['a', 'b', 'd'], 'data2': range(3)})\n",
    "## many-to-one inner join\n",
    "print(\"inner join\\n\", pd.merge(df1, df2))\n",
    "## many-to-one outer join\n",
    "print(\"outer join\\n\", pd.merge(df1, df2, how='outer'))"
   ]
  },
  {
   "cell_type": "code",
   "execution_count": null,
   "metadata": {
    "autoscroll": false,
    "ein.tags": "worksheet-0",
    "slideshow": {
     "slide_type": "-"
    }
   },
   "outputs": [],
   "source": [
    "## Many-to-many joins\n",
    "df3 = pd.DataFrame({'key': ['b', 'b', 'a', 'c', 'a', 'b'], 'data3': range(6)})\n",
    "df4 = pd.DataFrame({'key': ['a', 'b', 'a', 'b', 'd'], 'data4': range(5)})\n",
    "print(\"many-to-many left join\\n\", pd.merge(df3, df4, on='key', how='left'))"
   ]
  },
  {
   "cell_type": "code",
   "execution_count": null,
   "metadata": {
    "autoscroll": false,
    "ein.tags": "worksheet-0",
    "slideshow": {
     "slide_type": "-"
    }
   },
   "outputs": [],
   "source": [
    "## join method\n",
    "## Always uses index for the second data frame\n",
    "df3.join(df4.set_index('key'), on='key', how='left')"
   ]
  },
  {
   "cell_type": "markdown",
   "metadata": {
    "ein.tags": "worksheet-0",
    "slideshow": {
     "slide_type": "-"
    }
   },
   "source": [
    "### Concatenation along axes"
   ]
  },
  {
   "cell_type": "code",
   "execution_count": null,
   "metadata": {
    "autoscroll": false,
    "ein.tags": "worksheet-0",
    "slideshow": {
     "slide_type": "-"
    }
   },
   "outputs": [],
   "source": [
    "## concatenating numpy matrices\n",
    "arr = np.arange(12).reshape((3,4))\n",
    "print(\"along axis 0\\n\", np.concatenate((arr, arr), axis=0))\n",
    "print(\"along axis 1\\n\", np.concatenate((arr, arr), axis=1))\n"
   ]
  },
  {
   "cell_type": "code",
   "execution_count": null,
   "metadata": {
    "autoscroll": false,
    "ein.tags": "worksheet-0",
    "slideshow": {
     "slide_type": "-"
    }
   },
   "outputs": [],
   "source": [
    "### Concatenation in pandas\n",
    "s1 = pd.Series([0,1], index=['a', 'b'])\n",
    "s2 = pd.Series([2,3,4], index=('c','d','e'))\n",
    "s3 = pd.Series([5,6], index=['f','g'])\n",
    "c1 = pd.concat((s1,s2,s3))\n",
    "print(\"along axis0 (default)\\n\", c1)\n",
    "print(\"note: this is of type\", type(c1))"
   ]
  },
  {
   "cell_type": "code",
   "execution_count": null,
   "metadata": {
    "autoscroll": false,
    "ein.tags": "worksheet-0",
    "slideshow": {
     "slide_type": "-"
    }
   },
   "outputs": [],
   "source": [
    "### concat in axis=1, get a DataFrame\n",
    "c2 = pd.concat((s1,s2,s3), axis=1)\n",
    "print(\"along axis0 (default)\\n\", c2)\n",
    "print(\"note: this is of type\", type(c2))\n"
   ]
  },
  {
   "cell_type": "code",
   "execution_count": null,
   "metadata": {
    "autoscroll": false,
    "ein.tags": "worksheet-0",
    "slideshow": {
     "slide_type": "-"
    }
   },
   "outputs": [],
   "source": [
    "s4 = pd.concat((s1*5, s3))\n",
    "print(\"outer join (default)\\n\", pd.concat([s1,s4], axis=1))\n",
    "print(\"inner join\\n\", pd.concat([s1,s4], axis=1, join=\"inner\"))\n",
    "## give an axis:\n",
    "print(\"given join axis\\n\", pd.concat([s1,s4], axis=1, join_axes=[['a', 'e', 'b', 'c']]))\n"
   ]
  },
  {
   "cell_type": "code",
   "execution_count": null,
   "metadata": {
    "autoscroll": false,
    "ein.tags": "worksheet-0",
    "slideshow": {
     "slide_type": "-"
    }
   },
   "outputs": [],
   "source": [
    "## identify by hierarchical key (axis = 0)\n",
    "c5 = pd.concat([s1,s1,s3])\n",
    "print(\"w/o keys\\n\", c5)\n",
    "c3 = pd.concat([s1,s1,s3], keys=['one', 'two', 'three'])\n",
    "print(\"w/hierarchical key\\n\", c3)\n",
    "c3.unstack()\n",
    "## get DataFrame columns (axis = 1)\n",
    "c4 = pd.concat([s1,s2,s3], axis = 1, keys=['one', 'two', 'three'])\n",
    "print(\"w/hierarchical key\\n\", c4)\n"
   ]
  },
  {
   "cell_type": "code",
   "execution_count": null,
   "metadata": {
    "autoscroll": false,
    "ein.tags": "worksheet-0",
    "slideshow": {
     "slide_type": "-"
    }
   },
   "outputs": [],
   "source": [
    "## DataFrames behave in similar fashion:\n",
    "df1 = pd.DataFrame(np.arange(6).reshape(3,2), index=['a','b','c'], columns=['one','two'])\n",
    "df2 = pd.DataFrame(5 + np.arange(4).reshape(2,2), index=['a','c'], columns=['three', 'four'])\n",
    "print(\"df1:\\n\", df1)\n",
    "print(\"df2:\\n\", df2)\n",
    "pd.concat([df1, df2], axis=1, keys=['L1', 'L2'])"
   ]
  },
  {
   "cell_type": "code",
   "execution_count": null,
   "metadata": {
    "autoscroll": false,
    "ein.tags": "worksheet-0",
    "slideshow": {
     "slide_type": "-"
    }
   },
   "outputs": [],
   "source": [
    "## overlapping data\n",
    "a = pd.Series([np.nan, 2.5, np.nan, 3.5, 4.5, np.nan], index=['f', 'e', 'd', 'c', 'b', 'a'])\n",
    "b = pd.Series(np.arange(len(a), dtype=np.float64), index=['f', 'e', 'd', 'c', 'b', 'a'])\n",
    "b[-1] = np.nan\n",
    "## select a if present, otherwise b\n",
    "print(\"'np.where'\\n\", np.where(pd.isnull(a), b, a))\n",
    "## do the same with 'combine_first'\n",
    "print(\"'combine_first'\\n\", a.combine_first(b))"
   ]
  },
  {
   "cell_type": "code",
   "execution_count": null,
   "metadata": {
    "autoscroll": false,
    "ein.tags": "worksheet-0",
    "slideshow": {
     "slide_type": "-"
    }
   },
   "outputs": [],
   "source": [
    "## works in a similar fashion for data frames\n",
    "df1 = pd.DataFrame({'a': [1, np.nan, 5, np.nan], 'b': [np.nan, 2, np.nan, 6], 'c': range(2,18,4)})\n",
    "df2 = pd.DataFrame({'a': [5, 4, np.nan, 3, 7], 'b': [np.nan, 3, 4, 6, 8]})\n",
    "df1.combine_first(df2)"
   ]
  },
  {
   "cell_type": "markdown",
   "metadata": {
    "ein.tags": "worksheet-0",
    "slideshow": {
     "slide_type": "-"
    }
   },
   "source": [
    "### Reshaping and pivoting"
   ]
  },
  {
   "cell_type": "code",
   "execution_count": null,
   "metadata": {
    "autoscroll": false,
    "ein.tags": "worksheet-0",
    "slideshow": {
     "slide_type": "-"
    }
   },
   "outputs": [],
   "source": [
    "data = pd.DataFrame(np.arange(6).reshape((2,3)), index=pd.Index(['OH','CO'], name='state'), columns=pd.Index(['one', 'two', 'three'], name='number'))\n",
    "long = data.stack()\n",
    "print(\"long form\\n\", long)\n",
    "wide = long.unstack()\n",
    "print('wide form\\n', wide)\n",
    "print('wide with 0-level in columns:\\n', long.unstack(0))"
   ]
  },
  {
   "cell_type": "markdown",
   "metadata": {
    "ein.tags": "worksheet-0",
    "slideshow": {
     "slide_type": "-"
    }
   },
   "source": [
    "## Chapther 9: Data Aggregation and Group Operations"
   ]
  },
  {
   "cell_type": "code",
   "execution_count": null,
   "metadata": {
    "autoscroll": false,
    "ein.tags": "worksheet-0",
    "slideshow": {
     "slide_type": "-"
    }
   },
   "outputs": [],
   "source": [
    "df = pd.DataFrame({'key1': ['a', 'a', 'b', 'b', 'a', np.nan], 'key2': ['one', 'two', 'one', 'two', 'one', np.nan],\n",
    "                   'data1': np.random.randn(5), 'data2': np.random.randn(5)})\n",
    "## group the data\n",
    "grouped = df['data1'].groupby(df['key1'])\n",
    "# group by a single key\n",
    "print(\"means by key1:\\n\", grouped.mean())\n",
    "print(\"\\nmeans by key1, key2:\\n\", df['data1'].groupby([df['key1'], df.key2]).mean() )\n",
    "# group by two keys\n"
   ]
  },
  {
   "cell_type": "code",
   "execution_count": null,
   "metadata": {
    "autoscroll": false,
    "ein.tags": "worksheet-0",
    "slideshow": {
     "slide_type": "-"
    }
   },
   "outputs": [],
   "source": [
    "states = np.array(['OH', 'CA', 'CA', 'OH', 'OH'])\n",
    "years = np.array([2005, 2005, 2006, 2005, 2006])\n",
    "print(\"means by state, year:\\n\", df.data1.groupby([states, years]).mean() )\n",
    "# note: key2 removed\n",
    "## use the same data frame:\n",
    "print(\"\\nkeys in the same df:\\n\", df.groupby(['key1', 'key2']).mean() )\n"
   ]
  },
  {
   "cell_type": "markdown",
   "metadata": {
    "ein.tags": "worksheet-0",
    "slideshow": {
     "slide_type": "-"
    }
   },
   "source": [
    "### Exercice:\n",
    "repeat the previous exercise using grouping: compute the survival rate\n",
    "for men, women, old and young using groupby operator."
   ]
  },
  {
   "cell_type": "markdown",
   "metadata": {
    "ein.tags": "worksheet-0",
    "slideshow": {
     "slide_type": "-"
    }
   },
   "source": [
    "## Solution to survival exercise below"
   ]
  },
  {
   "cell_type": "code",
   "execution_count": null,
   "metadata": {
    "autoscroll": false,
    "ein.tags": "worksheet-0",
    "slideshow": {
     "slide_type": "-"
    }
   },
   "outputs": [],
   "source": [
    "## survival exercise solution\n",
    "ageb = titanic.age.median()\n",
    "print('age boundary:', ageb, '\\n')\n",
    "ym = titanic[np.logical_and(titanic.age < ageb, titanic.sex ==\n",
    "                         'male')].survived.mean()\n",
    "print('young men', ym)\n",
    "yf = titanic[np.logical_and(titanic.age < ageb, titanic.sex !=\n",
    "                         'male')].survived.mean()\n",
    "print('young women', yf)\n",
    "om = titanic[np.logical_and(titanic.age >= ageb, titanic.sex ==\n",
    "                         'male')].survived.mean()\n",
    "print('old men', om)\n",
    "of = titanic[np.logical_and(titanic.age >= ageb, titanic.sex !=\n",
    "                         'male')].survived.mean()\n",
    "print('old women', of)"
   ]
  }
 ],
 "metadata": {
  "kernelspec": {
   "display_name": "Python 3",
   "language": "python",
   "name": "python3"
  },
  "language_info": {
   "codemirror_mode": {
    "name": "ipython",
    "version": 3
   },
   "file_extension": ".py",
   "mimetype": "text/x-python",
   "name": "python",
   "nbconvert_exporter": "python",
   "pygments_lexer": "ipython3",
   "version": "3.6.3"
  },
  "name": "pandas_intro.ipynb"
 },
 "nbformat": 4,
 "nbformat_minor": 2
}
