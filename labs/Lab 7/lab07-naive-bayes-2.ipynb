{
 "cells": [
  {
   "cell_type": "markdown",
   "metadata": {},
   "source": [
    "# Naive Bayes\n",
    "\n",
    "In this lab we will build multinomial naive bayes classifiers to predict movie ratings (`fresh` or `rotten`) based on user quotes. The dataset can be downloaded at https://canvas.uw.edu/courses/1256537/files/54325781/download?download_frd=1 We will split the dataset into three subsets: train, validation, and test. We will perform cross-validation on the train and validation set to pick a good smoothing parameter alpha. Then, we will evaluate the model performance (classification accuracy) using the test dataset."
   ]
  },
  {
   "cell_type": "markdown",
   "metadata": {},
   "source": [
    "## Step 0: Load Dataset\n",
    "\n",
    "First let's load the dataset and split it into train, validation, and test. Feel free to `print` or explore the dataset on your own."
   ]
  },
  {
   "cell_type": "code",
   "execution_count": 1,
   "metadata": {},
   "outputs": [],
   "source": [
    "import numpy as np\n",
    "import pandas as pd\n",
    "from sklearn.model_selection import train_test_split\n",
    "\n",
    "def load_data():\n",
    "    df = pd.read_csv(\"rotten-tomatoes.csv\")\n",
    "    df = df[df.fresh != 'none']\n",
    "    y =  pd.get_dummies(df.fresh).fresh\n",
    "    # split train, validation, and test set\n",
    "    X_train, X_test, y_train, y_test = train_test_split(df.quote, y, test_size=0.1)\n",
    "    X_train, X_val, y_train, y_val = train_test_split(X_train, y_train, test_size=0.1)\n",
    "    return X_train, X_val, X_test, y_train, y_val, y_test\n",
    "\n",
    "X_train, X_val, X_test, y_train, y_val, y_test = load_data()"
   ]
  },
  {
   "cell_type": "markdown",
   "metadata": {},
   "source": [
    "## Step 1: Naive Bayes\n",
    "\n",
    "1.1 Let's vectorize the quotes by counting word frequencies and fit a Naive Bayes classifier on the *training* set. Because our features are discrete word counts, we will use `MultinomialNB` from `sklearn` (https://scikit-learn.org/stable/modules/generated/sklearn.naive_bayes.MultinomialNB.html).\n",
    "\n",
    "1.2 The smoothing prior `alpha` accounts for features not present in the learning samples and prevents zero probabilities in further computations. Setting `alpha = 1` is called *Laplace* smoothing; setting `alpha = 0.1` is called *Lidstone* smoothing, setting `alpha = 0` means no smoothing. Set `alpha` to `0, 0.1, 1` in the code below and report the train and validation accuracy. Among the three parameter settings, which gives the best model performance (i.e., the highest validation accuracy)?"
   ]
  },
  {
   "cell_type": "code",
   "execution_count": 2,
   "metadata": {},
   "outputs": [
    {
     "name": "stdout",
     "output_type": "stream",
     "text": [
      "For alpha = 0\n"
     ]
    },
    {
     "name": "stderr",
     "output_type": "stream",
     "text": [
      "C:\\Users\\Yasmine\\anaconda3\\lib\\site-packages\\sklearn\\naive_bayes.py:507: UserWarning: alpha too small will result in numeric errors, setting alpha = 1.0e-10\n",
      "  'setting alpha = %.1e' % _ALPHA_MIN)\n"
     ]
    },
    {
     "name": "stdout",
     "output_type": "stream",
     "text": [
      "train accuracy: 0.9581378231668046\n",
      "validation accuracy 0.7177152317880795 \n",
      "\n",
      "For alpha = 0.1\n",
      "train accuracy: 0.9526175361118778\n",
      "validation accuracy 0.7293046357615894 \n",
      "\n",
      "For alpha = 1\n",
      "train accuracy: 0.925660134326985\n",
      "validation accuracy 0.7491721854304636 \n",
      "\n"
     ]
    }
   ],
   "source": [
    "from sklearn.feature_extraction.text import CountVectorizer\n",
    "from sklearn.naive_bayes import MultinomialNB\n",
    "\n",
    "vectorizer = CountVectorizer(stop_words='english')\n",
    "vectorizer = vectorizer.fit(X_train)\n",
    "\n",
    "# todo: set alpha = 0, 0.1, 1\n",
    "alphas = [0, 0.1, 1]\n",
    "\n",
    "for i in alphas:\n",
    "    print(\"For alpha =\", i)\n",
    "    clf = MultinomialNB(alpha = i)\n",
    "\n",
    "    X_train_vec = vectorizer.transform(X_train).toarray()\n",
    "    clf.fit(X_train_vec, y_train)\n",
    "    print('train accuracy:', clf.score(X_train_vec, y_train))\n",
    "\n",
    "    X_val_vec = vectorizer.transform(X_val).toarray()\n",
    "    print('validation accuracy', clf.score(X_val_vec, y_val), \"\\n\")"
   ]
  },
  {
   "cell_type": "markdown",
   "metadata": {},
   "source": [
    "**alpha = 1 gives the best model performance**"
   ]
  },
  {
   "cell_type": "markdown",
   "metadata": {},
   "source": [
    "## Step 2: Cross-Validation to Pick Smoothing Parameter\n",
    "\n",
    "2.1 Now let's try some different `alpha` values. Let's plot the train and validation accuracies against `alpha` values; plot two lines, put `alpha` on the x axis, train and validation accuracy on the y axis. \n",
    "\n",
    "2.2 Based on your plot, which `alpha` value is the best for model performance (i.e., pick the `alpha` with the best *validation* accuracy)? Report the optimal `alpha` and its train and validation accuracy."
   ]
  },
  {
   "cell_type": "code",
   "execution_count": 3,
   "metadata": {},
   "outputs": [
    {
     "name": "stdout",
     "output_type": "stream",
     "text": [
      "For alpha = 1e-10\n",
      "train accuracy: 0.9581378231668046\n",
      "validation accuracy 0.7177152317880795 \n",
      "\n",
      "For alpha = 0.5000000001\n",
      "train accuracy: 0.9384487993375655\n",
      "validation accuracy 0.7375827814569537 \n",
      "\n",
      "For alpha = 1.0000000001\n",
      "train accuracy: 0.925660134326985\n",
      "validation accuracy 0.7491721854304636 \n",
      "\n",
      "For alpha = 1.5000000001\n",
      "train accuracy: 0.9102033305731898\n",
      "validation accuracy 0.7524834437086093 \n",
      "\n",
      "For alpha = 2.0000000001\n",
      "train accuracy: 0.8982427086208483\n",
      "validation accuracy 0.7483443708609272 \n",
      "\n",
      "For alpha = 2.5000000001\n",
      "train accuracy: 0.8866501058055019\n",
      "validation accuracy 0.7417218543046358 \n",
      "\n",
      "For alpha = 3.0000000001\n",
      "train accuracy: 0.8716533259729506\n",
      "validation accuracy 0.7384105960264901 \n",
      "\n",
      "For alpha = 3.5000000001\n",
      "train accuracy: 0.859692704020609\n",
      "validation accuracy 0.7317880794701986 \n",
      "\n",
      "For alpha = 4.0000000001\n",
      "train accuracy: 0.8465360198730334\n",
      "validation accuracy 0.7251655629139073 \n",
      "\n",
      "For alpha = 4.5000000001\n",
      "train accuracy: 0.8354034409789309\n",
      "validation accuracy 0.7251655629139073 \n",
      "\n"
     ]
    }
   ],
   "source": [
    "import matplotlib.pyplot as plt\n",
    "import seaborn as sns\n",
    "\n",
    "alpha = np.arange(1e-10,5,0.5)\n",
    "# fit clf on train, report train and validation accuracy\n",
    "\n",
    "data = {'alpha': [], 'type': [], 'acc': []}\n",
    "\n",
    "for i in alpha:\n",
    "    print(\"For alpha =\", i)\n",
    "    clf = MultinomialNB(alpha = i)\n",
    "    \n",
    "    data['alpha'].append(i)\n",
    "    data['alpha'].append(i)\n",
    "\n",
    "    X_train_vec = vectorizer.transform(X_train).toarray()\n",
    "    clf.fit(X_train_vec, y_train)\n",
    "    print('train accuracy:', clf.score(X_train_vec, y_train))\n",
    "    \n",
    "    data['type'].append('train')\n",
    "    data['acc'].append(clf.score(X_train_vec, y_train))\n",
    "\n",
    "    X_val_vec = vectorizer.transform(X_val).toarray()\n",
    "    print('validation accuracy', clf.score(X_val_vec, y_val), \"\\n\")\n",
    "    data['type'].append('validation')\n",
    "    data['acc'].append(clf.score(X_val_vec, y_val))\n"
   ]
  },
  {
   "cell_type": "code",
   "execution_count": 4,
   "metadata": {},
   "outputs": [
    {
     "data": {
      "image/png": "[encoded data removed]",
      "text/plain": [
       "<Figure size 432x288 with 1 Axes>"
      ]
     },
     "metadata": {
      "needs_background": "light"
     },
     "output_type": "display_data"
    }
   ],
   "source": [
    "# todo: plot x = alpha, y = accuracy, color = [train, validation]\n",
    "\n",
    "import matplotlib.pyplot as plt\n",
    "\n",
    "data = pd.DataFrame.from_dict(data)\n",
    "\n",
    "data_train = data[data['type'] == 'train']\n",
    "data_val = data[data['type'] == 'validation']\n",
    "\n",
    "plt.plot(data_train['alpha'], data_train['acc'], label = 'train', c = 'red')\n",
    "plt.plot(data_val['alpha'], data_val['acc'], label = 'validation', c = 'blue')\n",
    "plt.xlabel(\"alpha\")\n",
    "plt.ylabel(\"accuracy(%)\")\n",
    "plt.title(\"Alpha vs Accuracy\")\n",
    "plt.legend(['train', 'validation'])\n",
    "plt.show()"
   ]
  },
  {
   "cell_type": "markdown",
   "metadata": {},
   "source": [
    "Based on our plot, the alpha value that is the best for model performance (i.e., the alpha with the best validation accuracy) is **alpha = 1**. We see printed earlier that for our optimal alpha:\n",
    "\n",
    "train accuracy: 0.921795933389 \n",
    "\n",
    "validation accuracy 0.790562913907 "
   ]
  },
  {
   "cell_type": "markdown",
   "metadata": {},
   "source": [
    "## Step 3: Evaluate on Test Set\n",
    "\n",
    "3.1 With the optimal `alpha` you found in step 2, fit the Naive Bayes classifer on (train + validation) set and evaluate the model performance on the test set. Report the test accuracy. \n",
    "\n",
    "Note: After measuring test accuracy, do **not** change `alpha` any more. You should only change `alpha` during cross-validation (step 2). If you change `alpha` after looking at test acccuracy, you leak information from the test set to the model and your test accuracy will not be an unbiased estimator of the model's prediction accuracy any more!"
   ]
  },
  {
   "cell_type": "code",
   "execution_count": 5,
   "metadata": {},
   "outputs": [
    {
     "name": "stdout",
     "output_type": "stream",
     "text": [
      "train accuracy: 0.919433634180674\n",
      "test accuracy 0.7831594634873323\n"
     ]
    }
   ],
   "source": [
    "# combine train and validation to form a new train set\n",
    "X_train_total = X_train.append(X_val)\n",
    "y_train_total = y_train.append(y_val)\n",
    "\n",
    "# fit Naive Bayes classifier on X_train_total and y_train_total\n",
    "\n",
    "clf = MultinomialNB(alpha = 1)\n",
    "\n",
    "X_train_vec = vectorizer.transform(X_train_total).toarray()\n",
    "clf.fit(X_train_vec, y_train_total)\n",
    "print('train accuracy:', clf.score(X_train_vec, y_train_total))\n",
    "\n",
    "X_test_vec = vectorizer.transform(X_test).toarray()\n",
    "print('test accuracy', clf.score(X_test_vec, y_test))\n"
   ]
  }
 ],
 "metadata": {
  "kernelspec": {
   "display_name": "Python 3",
   "language": "python",
   "name": "python3"
  },
  "language_info": {
   "codemirror_mode": {
    "name": "ipython",
    "version": 3
   },
   "file_extension": ".py",
   "mimetype": "text/x-python",
   "name": "python",
   "nbconvert_exporter": "python",
   "pygments_lexer": "ipython3",
   "version": "3.7.6"
  }
 },
 "nbformat": 4,
 "nbformat_minor": 2
}
