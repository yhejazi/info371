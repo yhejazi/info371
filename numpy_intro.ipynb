{
 "cells": [
  {
   "cell_type": "markdown",
   "metadata": {
    "ein.tags": "worksheet-0",
    "slideshow": {
     "slide_type": "-"
    }
   },
   "source": [
    "# Numpy\n",
    "\n",
    "Numpy is the primary way in python to handle matrices/vectors"
   ]
  },
  {
   "cell_type": "code",
   "execution_count": 2,
   "metadata": {
    "autoscroll": false,
    "ein.tags": "worksheet-0",
    "slideshow": {
     "slide_type": "-"
    }
   },
   "outputs": [
    {
     "name": "stdout",
     "output_type": "stream",
     "text": [
      "1.13.3\n"
     ]
    }
   ],
   "source": [
    "import numpy as np\n",
    "print(np.__version__)"
   ]
  },
  {
   "cell_type": "markdown",
   "metadata": {
    "ein.tags": "worksheet-0",
    "slideshow": {
     "slide_type": "-"
    }
   },
   "source": [
    "## Array: the fundamental building block"
   ]
  },
  {
   "cell_type": "markdown",
   "metadata": {
    "ein.tags": "worksheet-0",
    "slideshow": {
     "slide_type": "-"
    }
   },
   "source": [
    "### Creating arrays"
   ]
  },
  {
   "cell_type": "code",
   "execution_count": 3,
   "metadata": {
    "autoscroll": false,
    "ein.tags": "worksheet-0",
    "slideshow": {
     "slide_type": "-"
    }
   },
   "outputs": [
    {
     "name": "stdout",
     "output_type": "stream",
     "text": [
      "a:\n",
      " [1 2 3 4]\n",
      "b:\n",
      " [[1 2]\n",
      " [3 4]]\n"
     ]
    }
   ],
   "source": [
    "a = np.array([1,2,3,4])\n",
    "print(\"a:\\n\", a)\n",
    "b = np.array([[1,2], [3,4]])\n",
    "print(\"b:\\n\", b)"
   ]
  },
  {
   "cell_type": "code",
   "execution_count": 4,
   "metadata": {
    "autoscroll": false,
    "ein.tags": "worksheet-0",
    "slideshow": {
     "slide_type": "-"
    }
   },
   "outputs": [
    {
     "name": "stdout",
     "output_type": "stream",
     "text": [
      "(4,)\n",
      "(2, 2)\n"
     ]
    }
   ],
   "source": [
    "## Shape: the form of the array\n",
    "print(a.shape)\n",
    "print(b.shape)"
   ]
  },
  {
   "cell_type": "code",
   "execution_count": 5,
   "metadata": {
    "autoscroll": false,
    "ein.tags": "worksheet-0",
    "slideshow": {
     "slide_type": "-"
    }
   },
   "outputs": [
    {
     "name": "stdout",
     "output_type": "stream",
     "text": [
      "arange:\n",
      " [0 1 2 3 4 5 6 7 8 9]\n",
      "zeros:\n",
      " [[ 0.  0.  0.  0.  0.]\n",
      " [ 0.  0.  0.  0.  0.]]\n",
      "ones:\n",
      " [[1 1]\n",
      " [1 1]]\n",
      "empty:\n",
      " [[ -1.49166815e-154  -4.33307931e-311   2.24710859e-314   2.24870200e-314\n",
      "    2.24844751e-314   2.24677267e-314   2.24809759e-314   2.24844744e-314]\n",
      " [  2.24846056e-314   2.24713172e-314   2.24668102e-314   2.24845880e-314\n",
      "    2.24680862e-314   2.24682404e-314   2.24713089e-314   2.24730820e-314]\n",
      " [  2.24807708e-314   2.24844740e-314   2.24656500e-314   2.24682343e-314\n",
      "    2.24662674e-314   2.24668217e-314   2.24727505e-314   0.00000000e+000]]\n",
      "reshape:\n",
      " [[ 0  1  2  3]\n",
      " [ 4  5  6  7]\n",
      " [ 8  9 10 11]] \n",
      "\n",
      "random numbers:\n",
      " [[-0.68089302  2.04465375 -0.99503356  0.63595551  2.4831768 ]\n",
      " [ 0.94950764  3.74349557 -0.9735977  -0.52482551 -0.41593928]\n",
      " [-0.0858843  -0.63616236  0.47612786  0.0622631   0.93575681]\n",
      " [-0.29608747  1.68972371  0.27273342  1.12956382 -0.18645119]] \n",
      "\n"
     ]
    }
   ],
   "source": [
    "## create various arrays\n",
    "print(\"arange:\\n\", np.arange(10))\n",
    "# like range, but gives an array\n",
    "print(\"zeros:\\n\", np.zeros((2,5)) )\n",
    "print(\"ones:\\n\", np.ones_like((b)) )\n",
    "print(\"empty:\\n\", np.empty((3,8)) )\n",
    "print(\"reshape:\\n\", np.arange(12).reshape((3,4)), \"\\n\")\n",
    "print(\"random numbers:\\n\", np.random.randn(4,5) ,'\\n')"
   ]
  },
  {
   "cell_type": "code",
   "execution_count": 6,
   "metadata": {
    "autoscroll": false,
    "ein.tags": "worksheet-0",
    "slideshow": {
     "slide_type": "-"
    }
   },
   "outputs": [
    {
     "name": "stdout",
     "output_type": "stream",
     "text": [
      "int64\n",
      "[1 2]\n",
      "int64\n",
      "[ True False  True]\n",
      "[ 1.  0.  1.]\n"
     ]
    }
   ],
   "source": [
    "## data types\n",
    "print(a.dtype)\n",
    "c = np.array([1,2], dtype='int64')\n",
    "print(c)\n",
    "print(c.dtype)\n",
    "## converting data types\n",
    "d = np.array([True,False,True])\n",
    "print(d)\n",
    "print(d.astype('float'))\n",
    "# can also convert strings"
   ]
  },
  {
   "cell_type": "code",
   "execution_count": 7,
   "metadata": {
    "autoscroll": false,
    "ein.tags": "worksheet-0",
    "slideshow": {
     "slide_type": "-"
    }
   },
   "outputs": [
    {
     "name": "stdout",
     "output_type": "stream",
     "text": [
      "[2 3 4 5] \n",
      "\n",
      "[[ 2  4]\n",
      " [ 8 16]] \n",
      "\n"
     ]
    }
   ],
   "source": [
    "## math with arrays\n",
    "print(1 + a, \"\\n\")\n",
    "print(2**b, \"\\n\")  # note: exponent with **, not with ^"
   ]
  },
  {
   "cell_type": "markdown",
   "metadata": {
    "ein.tags": "worksheet-0",
    "slideshow": {
     "slide_type": "-"
    }
   },
   "source": [
    "### Array Indexing and Slicing"
   ]
  },
  {
   "cell_type": "code",
   "execution_count": 8,
   "metadata": {
    "autoscroll": false,
    "ein.tags": "worksheet-0",
    "slideshow": {
     "slide_type": "-"
    }
   },
   "outputs": [
    {
     "name": "stdout",
     "output_type": "stream",
     "text": [
      "[11 10  9  8  7  6  5  4  3  2  1  0]\n",
      "[ 0  1  2  3  4 -1 -1 -1 -1 -1 -1 11]\n"
     ]
    }
   ],
   "source": [
    "## 1d arrays indexed like lists:\n",
    "a = np.arange(12)\n",
    "print(a[::-1])\n",
    "b = a\n",
    "a[5:11] = -1\n",
    "print(b)"
   ]
  },
  {
   "cell_type": "code",
   "execution_count": 9,
   "metadata": {
    "autoscroll": false,
    "ein.tags": "worksheet-0",
    "slideshow": {
     "slide_type": "-"
    }
   },
   "outputs": [
    {
     "name": "stdout",
     "output_type": "stream",
     "text": [
      "c:\n",
      " [[ 0  1  2  3]\n",
      " [ 4  5  6  7]\n",
      " [ 8  9 10 11]] \n",
      "\n",
      "2nd row:\n",
      " [4 5 6 7] \n",
      "\n",
      "3rd column:\n",
      " [ 2  6 10] \n",
      "\n",
      "2nd row, 3rd column:\n",
      " 6 \n",
      " 6 \n",
      "\n"
     ]
    }
   ],
   "source": [
    "## 2D arrays may need two indices:\n",
    "c = np.arange(12).reshape((3,4))\n",
    "print(\"c:\\n\", c, \"\\n\")\n",
    "print(\"2nd row:\\n\", c[1], \"\\n\")\n",
    "print(\"3rd column:\\n\", c[:,2], \"\\n\")\n",
    "print(\"2nd row, 3rd column:\\n\", c[1,2], '\\n', c[1][2], '\\n')"
   ]
  },
  {
   "cell_type": "code",
   "execution_count": 10,
   "metadata": {
    "autoscroll": false,
    "ein.tags": "worksheet-0",
    "slideshow": {
     "slide_type": "-"
    }
   },
   "outputs": [
    {
     "name": "stdout",
     "output_type": "stream",
     "text": [
      "rows 1,2:\n",
      " [[0 1 2 3]\n",
      " [4 5 6 7]] \n",
      "\n",
      "rows 1,2, cols 1,2,3:\n",
      " [[0 1 2]\n",
      " [4 5 6]] \n",
      "\n"
     ]
    }
   ],
   "source": [
    "## 2d Slicing:\n",
    "print(\"rows 1,2:\\n\", c[:2], '\\n')\n",
    "print(\"rows 1,2, cols 1,2,3:\\n\", c[:2, :3], '\\n')"
   ]
  },
  {
   "cell_type": "code",
   "execution_count": 11,
   "metadata": {
    "autoscroll": false,
    "ein.tags": "worksheet-0",
    "slideshow": {
     "slide_type": "-"
    }
   },
   "outputs": [
    {
     "name": "stdout",
     "output_type": "stream",
     "text": [
      "original c:\n",
      " [[ 0  1  2  3]\n",
      " [ 4  5  6  7]\n",
      " [ 8  9 10 11]]\n",
      "changed d:\n",
      " [[ 0  1  2  3]\n",
      " [-1 -1 -1 -1]\n",
      " [ 8  9 10 11]]\n",
      "...but c changed too:\n",
      " [[ 0  1  2  3]\n",
      " [-1 -1 -1 -1]\n",
      " [ 8  9 10 11]]\n",
      "changed e:\n",
      " [[ 0 -2  2  3]\n",
      " [-1 -2 -1 -1]\n",
      " [ 8 -2 10 11]]\n",
      "...now c is unchanged:\n",
      " [[ 0  1  2  3]\n",
      " [-1 -1 -1 -1]\n",
      " [ 8  9 10 11]]\n"
     ]
    }
   ],
   "source": [
    "## Slicing may give unexpected results\n",
    "c = np.arange(12).reshape((3,4))\n",
    "print(\"original c:\\n\", c)\n",
    "d = c\n",
    "d[1,] = -1\n",
    "print(\"changed d:\\n\", d)\n",
    "print(\"...but c changed too:\\n\", c)\n",
    "## use 'copy' for deep copy\n",
    "e = c.copy()\n",
    "e[:,1] = -2\n",
    "print(\"changed e:\\n\", e)\n",
    "print(\"...now c is unchanged:\\n\", c)\n"
   ]
  },
  {
   "cell_type": "markdown",
   "metadata": {
    "ein.tags": "worksheet-0",
    "slideshow": {
     "slide_type": "-"
    }
   },
   "source": [
    "Exercise:\n",
    "* create a 4x5 array of even numbers: 2, 4, 6, ...\n",
    "* extract third column\n",
    "* set the fourth row to 1,2,3,4,5\n",
    "\n",
    "Note: there are many ways to achieve this."
   ]
  },
  {
   "cell_type": "code",
   "execution_count": 12,
   "metadata": {
    "autoscroll": false,
    "ein.tags": "worksheet-0",
    "slideshow": {
     "slide_type": "-"
    }
   },
   "outputs": [
    {
     "name": "stdout",
     "output_type": "stream",
     "text": [
      "[ 6 16 26 36] \n",
      "\n"
     ]
    },
    {
     "data": {
      "text/plain": [
       "array([[ 2,  4,  6,  8, 10],\n",
       "       [12, 14, 16, 18, 20],\n",
       "       [22, 24, 26, 28, 30],\n",
       "       [ 1,  2,  3,  4,  5]])"
      ]
     },
     "execution_count": 12,
     "metadata": {},
     "output_type": "execute_result"
    }
   ],
   "source": [
    "a = np.arange(2,42,2).reshape(4,5)\n",
    "print(a[:,2], '\\n')\n",
    "a[3] = 1 + np.arange(5)\n",
    "a"
   ]
  },
  {
   "cell_type": "code",
   "execution_count": null,
   "metadata": {
    "autoscroll": false,
    "ein.tags": "worksheet-0",
    "slideshow": {
     "slide_type": "-"
    }
   },
   "outputs": [],
   "source": [
    "## do it here"
   ]
  },
  {
   "cell_type": "code",
   "execution_count": 15,
   "metadata": {
    "autoscroll": false,
    "ein.tags": "worksheet-0",
    "slideshow": {
     "slide_type": "-"
    }
   },
   "outputs": [
    {
     "name": "stdout",
     "output_type": "stream",
     "text": [
      "[[-1.24528529  1.57555488 -0.40531846]\n",
      " [-0.92756631  0.4454403  -0.62246795]\n",
      " [ 0.83209177  1.23110972 -1.47658666]\n",
      " [ 0.57377793  1.13799246 -0.29851833]] \n",
      "\n",
      "[[ 0.  0.  0.]\n",
      " [ 0.  0.  0.]\n",
      " [ 0.  0.  0.]\n",
      " [ 0.  0.  0.]] \n",
      "\n",
      "[[-1.  0. -1.]\n",
      " [-1.  0. -1.]\n",
      " [ 0.  0. -1.]\n",
      " [ 0.  0. -1.]] \n",
      "\n"
     ]
    }
   ],
   "source": [
    "## Boolean indexing\n",
    "a = np.random.randn(4,3)\n",
    "print(a, '\\n')\n",
    "b = np.zeros_like(a)\n",
    "print(b, '\\n')\n",
    "b[a < 0] = -1\n",
    "print(b, '\\n')"
   ]
  },
  {
   "cell_type": "markdown",
   "metadata": {
    "ein.tags": "worksheet-0",
    "slideshow": {
     "slide_type": "-"
    }
   },
   "source": [
    "## Universal Functions  (ufuncs)\n",
    "\n",
    "Vectorized arithmetic/logic on arrays"
   ]
  },
  {
   "cell_type": "code",
   "execution_count": 16,
   "metadata": {
    "autoscroll": false,
    "ein.tags": "worksheet-0",
    "slideshow": {
     "slide_type": "-"
    }
   },
   "outputs": [
    {
     "name": "stdout",
     "output_type": "stream",
     "text": [
      "sqrt:\n",
      " [[ 0.          1.          1.41421356  1.73205081]\n",
      " [ 2.          2.23606798  2.44948974  2.64575131]\n",
      " [ 2.82842712  3.          3.16227766  3.31662479]] \n",
      "\n",
      "squares:\n",
      " [[  0   1   4   9]\n",
      " [ 16  25  36  49]\n",
      " [ 64  81 100 121]] \n",
      "\n",
      "[[11 10  9  8]\n",
      " [ 7  6  5  4]\n",
      " [ 3  2  1  0]]\n",
      "powers:\n",
      " [[    0     1   512  6561]\n",
      " [16384 15625  7776  2401]\n",
      " [  512    81    10     1]] \n",
      "\n",
      "> [[False False False False]\n",
      " [False False  True  True]\n",
      " [ True  True  True  True]] \n",
      "\n"
     ]
    }
   ],
   "source": [
    "a = np.arange(12).reshape((3,4))\n",
    "print(\"sqrt:\\n\", np.sqrt(a), '\\n')\n",
    "print(\"squares:\\n\", a**2, '\\n')\n",
    "b = np.arange(12)[::-1].reshape((3,4))\n",
    "print(b)\n",
    "print(\"powers:\\n\", np.power(a,b), '\\n')\n",
    "print(\">\", np.greater(a, b), '\\n')\n"
   ]
  },
  {
   "cell_type": "code",
   "execution_count": 20,
   "metadata": {
    "autoscroll": false,
    "ein.tags": "worksheet-0",
    "slideshow": {
     "slide_type": "-"
    }
   },
   "outputs": [
    {
     "data": {
      "text/plain": [
       "array([['even', 'odd', 'even', 'odd'],\n",
       "       ['even', 'odd', 'even', 'odd'],\n",
       "       ['even', 'odd', 'even', 'odd']],\n",
       "      dtype='<U4')"
      ]
     },
     "execution_count": 20,
     "metadata": {},
     "output_type": "execute_result"
    }
   ],
   "source": [
    "## Computing\n",
    "a = np.arange(12).reshape((3,4))\n",
    "np.where(a % 2 == 0, \"even\", \"odd\")"
   ]
  },
  {
   "cell_type": "code",
   "execution_count": 22,
   "metadata": {
    "autoscroll": false,
    "ein.tags": "worksheet-0",
    "slideshow": {
     "slide_type": "-"
    }
   },
   "outputs": [
    {
     "name": "stdout",
     "output_type": "stream",
     "text": [
      "[[ 0.85396976  0.38657821  0.22155888  0.87019432]\n",
      " [ 0.12743224  0.7979087   0.63044366  0.15470723]\n",
      " [ 0.72089466  0.28662082  0.85720324  0.57877022]] \n",
      "\n"
     ]
    },
    {
     "data": {
      "text/plain": [
       "array([[ 1.        ,  0.38657821,  0.22155888,  1.        ],\n",
       "       [ 0.12743224,  1.        ,  1.        ,  0.15470723],\n",
       "       [ 1.        ,  0.28662082,  1.        ,  1.        ]])"
      ]
     },
     "execution_count": 22,
     "metadata": {},
     "output_type": "execute_result"
    }
   ],
   "source": [
    "b = np.random.uniform(size = (3,4))\n",
    "print(b, '\\n')\n",
    "np.where(b > 0.5, 1, b)"
   ]
  },
  {
   "cell_type": "code",
   "execution_count": 23,
   "metadata": {
    "autoscroll": false,
    "ein.tags": "worksheet-0",
    "slideshow": {
     "slide_type": "-"
    }
   },
   "outputs": [
    {
     "data": {
      "text/plain": [
       "0.54052349448338177"
      ]
     },
     "execution_count": 23,
     "metadata": {},
     "output_type": "execute_result"
    }
   ],
   "source": [
    "## Stats\n",
    "b.mean()"
   ]
  },
  {
   "cell_type": "code",
   "execution_count": 24,
   "metadata": {
    "autoscroll": false,
    "ein.tags": "worksheet-0",
    "slideshow": {
     "slide_type": "-"
    }
   },
   "outputs": [
    {
     "data": {
      "text/plain": [
       "array([ 2.33230116,  1.71049184,  2.44348894])"
      ]
     },
     "execution_count": 24,
     "metadata": {},
     "output_type": "execute_result"
    }
   ],
   "source": [
    "## do this row-wise\n",
    "## Note: axis 1 is columns.  sum(axis=1) means sum by columns, retain rows\n",
    "b.sum(axis=1)"
   ]
  },
  {
   "cell_type": "code",
   "execution_count": 25,
   "metadata": {
    "autoscroll": false,
    "ein.tags": "worksheet-0",
    "slideshow": {
     "slide_type": "-"
    }
   },
   "outputs": [
    {
     "data": {
      "text/plain": [
       "4"
      ]
     },
     "execution_count": 25,
     "metadata": {},
     "output_type": "execute_result"
    }
   ],
   "source": [
    "b.argmin()"
   ]
  },
  {
   "cell_type": "code",
   "execution_count": 26,
   "metadata": {
    "autoscroll": false,
    "ein.tags": "worksheet-0",
    "slideshow": {
     "slide_type": "-"
    }
   },
   "outputs": [
    {
     "data": {
      "text/plain": [
       "array([1, 2, 0, 1])"
      ]
     },
     "execution_count": 26,
     "metadata": {},
     "output_type": "execute_result"
    }
   ],
   "source": [
    "b.argmin(axis=0)"
   ]
  },
  {
   "cell_type": "code",
   "execution_count": 27,
   "metadata": {
    "autoscroll": false,
    "ein.tags": "worksheet-0",
    "slideshow": {
     "slide_type": "-"
    }
   },
   "outputs": [
    {
     "name": "stdout",
     "output_type": "stream",
     "text": [
      "[ 0.6937621   0.52772492  0.92491873  0.88122773  0.60574371  0.54672421\n",
      "  0.03070399  0.74547764  0.2457965   0.18396989] \n",
      "\n",
      "a is sorted:\n",
      " [ 0.03070399  0.18396989  0.2457965   0.52772492  0.54672421  0.60574371\n",
      "  0.6937621   0.74547764  0.88122773  0.92491873]\n",
      "a is not sorted:\n",
      " [ 0.89156553  0.65774242  0.41744731  0.48071071  0.66576287  0.99202033\n",
      "  0.26609858  0.52752595  0.56150031  0.29638352]\n"
     ]
    }
   ],
   "source": [
    "## sorting\n",
    "a = np.random.uniform(size=10)\n",
    "print(a, '\\n')\n",
    "a.sort()  # in-place sorting\n",
    "print(\"a is sorted:\\n\", a)\n",
    "a = np.random.uniform(size=10)\n",
    "b = np.sort(a)  # returns sorted array\n",
    "print(\"a is not sorted:\\n\", a)\n"
   ]
  },
  {
   "cell_type": "code",
   "execution_count": null,
   "metadata": {
    "autoscroll": false,
    "ein.tags": "worksheet-0",
    "slideshow": {
     "slide_type": "-"
    }
   },
   "outputs": [],
   "source": []
  }
 ],
 "metadata": {
  "kernelspec": {
   "display_name": "Python 3",
   "language": "python",
   "name": "python3"
  },
  "language_info": {
   "codemirror_mode": {
    "name": "ipython",
    "version": 3
   },
   "file_extension": ".py",
   "mimetype": "text/x-python",
   "name": "python",
   "nbconvert_exporter": "python",
   "pygments_lexer": "ipython3",
   "version": "3.6.3"
  },
  "name": "numpy_intro.ipynb"
 },
 "nbformat": 4,
 "nbformat_minor": 2
}
